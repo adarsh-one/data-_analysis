{
  "nbformat": 4,
  "nbformat_minor": 0,
  "metadata": {
    "colab": {
      "provenance": [],
      "authorship_tag": "ABX9TyNOKZ0MEOXdR5qgLbaGV6Ug",
      "include_colab_link": true
    },
    "kernelspec": {
      "name": "python3",
      "display_name": "Python 3"
    },
    "language_info": {
      "name": "python"
    }
  },
  "cells": [
    {
      "cell_type": "markdown",
      "metadata": {
        "id": "view-in-github",
        "colab_type": "text"
      },
      "source": [
        "<a href=\"https://colab.research.google.com/github/adarsh-one/data-_analysis/blob/main/project.ipynb\" target=\"_parent\"><img src=\"https://colab.research.google.com/assets/colab-badge.svg\" alt=\"Open In Colab\"/></a>"
      ]
    },
    {
      "cell_type": "markdown",
      "source": [
        "# 1. Score Board Tracker"
      ],
      "metadata": {
        "id": "N4inFtiE6CjW"
      }
    },
    {
      "cell_type": "code",
      "execution_count": null,
      "metadata": {
        "colab": {
          "base_uri": "https://localhost:8080/"
        },
        "id": "5YpqKDIhwHzY",
        "outputId": "7fe7c70e-f17f-4c43-c23d-984506f4041d"
      },
      "outputs": [
        {
          "name": "stdout",
          "output_type": "stream",
          "text": [
            "Do you want to enter team, Press Y/Ny\n",
            "Enter team name :x\n",
            "Enter matches won/lost/drew in following sequence\n",
            "Enter no.of matches won1\n",
            "Enter no.of matches drew1\n",
            "Enter no.of matches lost1\n",
            "Scoreboard {'x': 'score = 4 , total matches = 3'}\n",
            "Do you want to enter more, press Y else N:  y\n",
            "Enter team name :y\n",
            "Enter matches won/lost/drew in following sequence\n",
            "Enter no.of matches won1\n",
            "Enter no.of matches drew2\n",
            "Enter no.of matches lost3\n",
            "Scoreboard {'x': 'score = 4 , total matches = 3', 'y': 'score = 5 , total matches = 6'}\n",
            "Do you want to enter more, press Y else N:  n\n"
          ]
        }
      ],
      "source": [
        "atss = {}\n",
        "p = input(\"Do you want to enter team, Press Y/N\")\n",
        "\n",
        "while p in 'Yy':\n",
        "\n",
        "  team = input('Enter team name :')\n",
        "\n",
        "  print(\"Enter matches won/lost/drew in following sequence\")\n",
        "\n",
        "  won = int(input('Enter no.of matches won'))\n",
        "  draw = int(input('Enter no.of matches drew'))\n",
        "  lost = int(input('Enter no.of matches lost'))\n",
        "\n",
        "  score = (3*won) + (1*draw) + (0*lost)\n",
        "  total = won + draw + lost\n",
        "  atss[team] = 'score = ' + str(score) + ' , ' + 'total matches = ' + str(total)\n",
        "\n",
        "\n",
        "\n",
        "  print(\"Scoreboard\" , atss)\n",
        "\n",
        "  p = input('Do you want to enter more, press Y else N:  ')"
      ]
    },
    {
      "cell_type": "markdown",
      "source": [
        "##29. Calculator using oops"
      ],
      "metadata": {
        "id": "jYy3KINAEvxY"
      }
    },
    {
      "cell_type": "code",
      "source": [
        "#calculator oops\n",
        "\n",
        "class Calculator:\n",
        "\n",
        "  def add(self , num1 , num2):\n",
        "    return num1+num2\n",
        "\n",
        "  def sub(self , num1 , num2):\n",
        "    return num1 - num2\n",
        "\n",
        "  def multiply(self , num1 , num2):\n",
        "    return num1*num2\n",
        "\n",
        "  def divison(self , num1 , num2):\n",
        "   ##try:\n",
        "   ##except ZeroDivisionError:\n",
        "     if num2 == 0:\n",
        "\n",
        "      raise ZeroDivisionError(\"Cannot be divided by zero\")\n",
        "\n",
        "     return num1/num2\n"
      ],
      "metadata": {
        "id": "AwMZuy3rwJz7"
      },
      "execution_count": null,
      "outputs": []
    },
    {
      "cell_type": "code",
      "source": [
        "calc = Calculator()\n",
        "\n",
        "print(calc.add(1,0))\n",
        "print(calc.divison(1,0))"
      ],
      "metadata": {
        "id": "PrzZAcZM2WSX",
        "colab": {
          "base_uri": "https://localhost:8080/",
          "height": 315
        },
        "outputId": "83f2b773-071a-465a-b7b5-f4e2646b3036"
      },
      "execution_count": null,
      "outputs": [
        {
          "output_type": "stream",
          "name": "stdout",
          "text": [
            "1\n"
          ]
        },
        {
          "output_type": "error",
          "ename": "ZeroDivisionError",
          "evalue": "Cannot be divided by zero",
          "traceback": [
            "\u001b[0;31m---------------------------------------------------------------------------\u001b[0m",
            "\u001b[0;31mZeroDivisionError\u001b[0m                         Traceback (most recent call last)",
            "\u001b[0;32m<ipython-input-14-78d7295feb72>\u001b[0m in \u001b[0;36m<cell line: 4>\u001b[0;34m()\u001b[0m\n\u001b[1;32m      2\u001b[0m \u001b[0;34m\u001b[0m\u001b[0m\n\u001b[1;32m      3\u001b[0m \u001b[0mprint\u001b[0m\u001b[0;34m(\u001b[0m\u001b[0mcalc\u001b[0m\u001b[0;34m.\u001b[0m\u001b[0madd\u001b[0m\u001b[0;34m(\u001b[0m\u001b[0;36m1\u001b[0m\u001b[0;34m,\u001b[0m\u001b[0;36m0\u001b[0m\u001b[0;34m)\u001b[0m\u001b[0;34m)\u001b[0m\u001b[0;34m\u001b[0m\u001b[0;34m\u001b[0m\u001b[0m\n\u001b[0;32m----> 4\u001b[0;31m \u001b[0mprint\u001b[0m\u001b[0;34m(\u001b[0m\u001b[0mcalc\u001b[0m\u001b[0;34m.\u001b[0m\u001b[0mdivison\u001b[0m\u001b[0;34m(\u001b[0m\u001b[0;36m1\u001b[0m\u001b[0;34m,\u001b[0m\u001b[0;36m0\u001b[0m\u001b[0;34m)\u001b[0m\u001b[0;34m)\u001b[0m\u001b[0;34m\u001b[0m\u001b[0;34m\u001b[0m\u001b[0m\n\u001b[0m",
            "\u001b[0;32m<ipython-input-13-dc497f2a5652>\u001b[0m in \u001b[0;36mdivison\u001b[0;34m(self, num1, num2)\u001b[0m\n\u001b[1;32m     17\u001b[0m      \u001b[0;32mif\u001b[0m \u001b[0mnum2\u001b[0m \u001b[0;34m==\u001b[0m \u001b[0;36m0\u001b[0m\u001b[0;34m:\u001b[0m\u001b[0;34m\u001b[0m\u001b[0;34m\u001b[0m\u001b[0m\n\u001b[1;32m     18\u001b[0m \u001b[0;34m\u001b[0m\u001b[0m\n\u001b[0;32m---> 19\u001b[0;31m       \u001b[0;32mraise\u001b[0m \u001b[0mZeroDivisionError\u001b[0m\u001b[0;34m(\u001b[0m\u001b[0;34m\"Cannot be divided by zero\"\u001b[0m\u001b[0;34m)\u001b[0m\u001b[0;34m\u001b[0m\u001b[0;34m\u001b[0m\u001b[0m\n\u001b[0m\u001b[1;32m     20\u001b[0m \u001b[0;34m\u001b[0m\u001b[0m\n\u001b[1;32m     21\u001b[0m      \u001b[0;32mreturn\u001b[0m \u001b[0mnum1\u001b[0m\u001b[0;34m/\u001b[0m\u001b[0mnum2\u001b[0m\u001b[0;34m\u001b[0m\u001b[0;34m\u001b[0m\u001b[0m\n",
            "\u001b[0;31mZeroDivisionError\u001b[0m: Cannot be divided by zero"
          ]
        }
      ]
    },
    {
      "cell_type": "code",
      "source": [
        "calc.add(int(input()),int(input()))"
      ],
      "metadata": {
        "colab": {
          "base_uri": "https://localhost:8080/"
        },
        "id": "Y72I2SAm6H-O",
        "outputId": "deedcfc6-b6ac-4609-987e-373385c9fa9e"
      },
      "execution_count": null,
      "outputs": [
        {
          "name": "stdout",
          "output_type": "stream",
          "text": [
            "1\n",
            "2\n"
          ]
        },
        {
          "output_type": "execute_result",
          "data": {
            "text/plain": [
              "3"
            ]
          },
          "metadata": {},
          "execution_count": 20
        }
      ]
    },
    {
      "cell_type": "markdown",
      "source": [
        "# 2. Nutrition Bar Ingredient\n"
      ],
      "metadata": {
        "id": "UZx4ultZ6df4"
      }
    },
    {
      "cell_type": "code",
      "source": [
        "## Nutrition bar\n",
        "\n",
        "raisins= 45\n",
        "almonds= 65\n",
        "apricots=30\n",
        "\n",
        "lst = [45,65,30]\n",
        "\n",
        "raisins_perc = round( 45*100/sum(lst) , 2)\n",
        "almonds_perc = round( 65*100/sum(lst) , 2)\n",
        "apricots_perc = round( 30*100/sum(lst) , 2)\n",
        "\n",
        "ingredients_perc = {'raisins': raisins_perc , 'almonds': almonds_perc , 'apricots': apricots_perc}\n",
        "\n",
        "print(ingredients_perc)\n",
        "\n"
      ],
      "metadata": {
        "id": "LIX3eRdI7RvQ",
        "colab": {
          "base_uri": "https://localhost:8080/"
        },
        "outputId": "9cb97fd2-1b2c-427d-8a23-1de61f470b27"
      },
      "execution_count": null,
      "outputs": [
        {
          "output_type": "stream",
          "name": "stdout",
          "text": [
            "{'raisins': 32.14, 'almonds': 46.43, 'apricots': 21.43}\n"
          ]
        }
      ]
    },
    {
      "cell_type": "code",
      "source": [
        "## round( decimal number , how many digits after decimal does rounding off needs to be done)\n",
        "round(32.15 , 1)\n",
        "round(32.155 , 1)\n",
        "round(32.151 , 1)\n",
        "round(32.14 , 1)"
      ],
      "metadata": {
        "colab": {
          "base_uri": "https://localhost:8080/"
        },
        "id": "DJxStkKuJB24",
        "outputId": "ff8e9fb8-121d-47c2-aeae-d97821ee3f92"
      },
      "execution_count": null,
      "outputs": [
        {
          "output_type": "execute_result",
          "data": {
            "text/plain": [
              "32.2"
            ]
          },
          "metadata": {},
          "execution_count": 36
        }
      ]
    },
    {
      "cell_type": "markdown",
      "source": [
        "# 3.  Algebric functions: f(x) = x^2 + 3x - 4"
      ],
      "metadata": {
        "id": "QrfKSTIK7T7H"
      }
    },
    {
      "cell_type": "code",
      "source": [
        "## Algebric functions: f(x) = x^2 + 3x - 4\n",
        "\n",
        "##x = float(input('Enter value of x: '))\n",
        "\n",
        "'''x = [3 , -2 , 4]\n",
        "\n",
        "storage = {}\n",
        "\n",
        "for value in x:\n",
        " func = value**2 + 3*value - 4\n",
        " storage[value] = func\n",
        "\n",
        "print(storage)'''\n",
        "\n",
        "##\n",
        "\n",
        "def func(num):\n",
        "  return num**2 + 3*num - 4"
      ],
      "metadata": {
        "id": "oKvRlr5hJsKG"
      },
      "execution_count": null,
      "outputs": []
    },
    {
      "cell_type": "code",
      "source": [
        "func(3)"
      ],
      "metadata": {
        "colab": {
          "base_uri": "https://localhost:8080/"
        },
        "id": "tblcQzWENHGq",
        "outputId": "5e2e1e54-e2b5-4743-93da-9ca70b61b161"
      },
      "execution_count": null,
      "outputs": [
        {
          "output_type": "execute_result",
          "data": {
            "text/plain": [
              "14"
            ]
          },
          "metadata": {},
          "execution_count": 43
        }
      ]
    },
    {
      "cell_type": "code",
      "source": [
        "func(3) == (4)"
      ],
      "metadata": {
        "colab": {
          "base_uri": "https://localhost:8080/"
        },
        "id": "LOp3PMGqO32m",
        "outputId": "1382b801-3076-4a1f-9fcf-ad1662c890fa"
      },
      "execution_count": null,
      "outputs": [
        {
          "output_type": "execute_result",
          "data": {
            "text/plain": [
              "False"
            ]
          },
          "metadata": {},
          "execution_count": 44
        }
      ]
    },
    {
      "cell_type": "code",
      "source": [
        "if func(3) == 0:\n"
      ],
      "metadata": {
        "id": "guwYzNy_O7oe"
      },
      "execution_count": null,
      "outputs": []
    },
    {
      "cell_type": "markdown",
      "source": [
        "# 4. Finding total E's in the Bookshelves\n"
      ],
      "metadata": {
        "id": "04blSe0i7hZP"
      }
    },
    {
      "cell_type": "code",
      "source": [
        "## Count total e/E's\n",
        "\n",
        "books = \"Python for Everyone, Learn Python the Hard Way, Python Crash Course , Starting Out with Python, Automate the Boring Stuff with Python\"\n",
        "\n",
        "lst = books.split(',')\n",
        "\n",
        "print(lst)\n",
        "\n",
        "count_e = books.count('e')\n",
        "count_E = books.count('E')\n",
        "\n",
        "total = count_e + count_E\n",
        "\n",
        "print(total)\n",
        "\n",
        "\n",
        "\n"
      ],
      "metadata": {
        "colab": {
          "base_uri": "https://localhost:8080/"
        },
        "id": "eW4K2S7oQCeC",
        "outputId": "c388f439-3a8c-45bd-b903-fb244b8510fd"
      },
      "execution_count": null,
      "outputs": [
        {
          "output_type": "stream",
          "name": "stdout",
          "text": [
            "['Python for Everyone', ' Learn Python the Hard Way', ' Python Crash Course ', ' Starting Out with Python', ' Automate the Boring Stuff with Python']\n",
            "8\n"
          ]
        }
      ]
    },
    {
      "cell_type": "markdown",
      "source": [
        "## 5 .Unleashing the Power of Mean in Exam Analysis"
      ],
      "metadata": {
        "id": "DgPhbvOY8Dqu"
      }
    },
    {
      "cell_type": "code",
      "source": [
        "##Mean\n",
        "\n",
        "marks = [67,87,75,46,89,97,68,98,87,88]\n",
        "\n",
        "mean = sum(marks)/len(marks)\n",
        "\n",
        "print(mean)"
      ],
      "metadata": {
        "colab": {
          "base_uri": "https://localhost:8080/"
        },
        "id": "HBzJcHJ7SCLo",
        "outputId": "522bce94-2ba3-4f16-b78b-e88f8e7accf2"
      },
      "execution_count": null,
      "outputs": [
        {
          "output_type": "stream",
          "name": "stdout",
          "text": [
            "80.2\n"
          ]
        }
      ]
    },
    {
      "cell_type": "markdown",
      "source": [
        "## 6. John's Fruit Stand Sales Mix-up"
      ],
      "metadata": {
        "id": "ovyTgaLG8M5-"
      }
    },
    {
      "cell_type": "code",
      "source": [
        "## sales shop\n",
        "\n",
        "lst=['Mango','Mango','Mango','Pineapple','Pineapple','Pineapple','Apple','Mango','Banana','Apple','Banana','Apple','Pineapple','Apple','Apple','Pineapple','Pineapple']\n",
        "\n",
        "lst_dict = {}\n",
        "\n",
        "for value in lst:\n",
        "  if value not in lst_dict:\n",
        "   lst_dict[value] = 1\n",
        "  else:\n",
        "   lst_dict[value] += 1\n",
        "\n",
        "print(lst_dict)"
      ],
      "metadata": {
        "colab": {
          "base_uri": "https://localhost:8080/"
        },
        "id": "li4VWeXpTuIP",
        "outputId": "80d29722-a2d9-4d20-a354-929f43d22498"
      },
      "execution_count": null,
      "outputs": [
        {
          "output_type": "stream",
          "name": "stdout",
          "text": [
            "{'Mango': 4, 'Pineapple': 6, 'Apple': 5, 'Banana': 2}\n"
          ]
        }
      ]
    },
    {
      "cell_type": "markdown",
      "source": [
        "##7. Indexing and slicing\n",
        "##1. Imagine that you are a superhero movie buff and you're trying to create a list of the most iconic Marvel characters. You have compiled a list of some of the most popular characters, but you want to narrow it down to the top 6.\n",
        "\n",
        "##2. Create two teams of superheroes based on their index position: one team should consist of all the characters located at even index positions, while the other team should consist of all the characters located at odd index positions.\n",
        "\n",
        "##3. Store the word 'Spider-Man' in a new variable, and slice the word 'Spider' from it.\n",
        "\n",
        "##4. Store the word 'Iron-Man' in a variable and use reverse indexing to reverse it.\n"
      ],
      "metadata": {
        "id": "5xWSEgkY8gbu"
      }
    },
    {
      "cell_type": "code",
      "source": [
        "## slicing\n",
        "\n",
        "marvel_heroes = ['Avengers', 'X-Men', 'Spider-Man', 'Iron Man', 'Hulk', 'Thor', 'Black Widow', 'Captain America', 'Wolverine', 'Doctor Strange', 'Namor']\n",
        "\n",
        "'''\n",
        "You want to narrow down the list to the last 6 characters in the list. These characters are:\n",
        "\n",
        "Namor\n",
        "Doctor Strange\n",
        "Wolverine\n",
        "Captain America\n",
        "Black Widow\n",
        "Thor\n",
        "'''\n",
        "new_heroes = marvel_heroes[11:4:-1]\n",
        "\n",
        "print(new_heroes)\n"
      ],
      "metadata": {
        "colab": {
          "base_uri": "https://localhost:8080/"
        },
        "id": "06wl-PNIVpFG",
        "outputId": "256df1c2-339a-4b52-e8cf-ab2279e53e42"
      },
      "execution_count": null,
      "outputs": [
        {
          "output_type": "stream",
          "name": "stdout",
          "text": [
            "['Namor', 'Doctor Strange', 'Wolverine', 'Captain America', 'Black Widow', 'Thor']\n"
          ]
        }
      ]
    },
    {
      "cell_type": "code",
      "source": [
        "## iterable[start:stop:step]\n",
        "\n",
        "## begin(included) , end(excluded) , jump size"
      ],
      "metadata": {
        "colab": {
          "base_uri": "https://localhost:8080/"
        },
        "id": "MCJrTxAdXzsu",
        "outputId": "f5824cb8-7809-44b4-d7c5-57cd56fdc868"
      },
      "execution_count": null,
      "outputs": [
        {
          "output_type": "stream",
          "name": "stdout",
          "text": [
            "al\n",
            "a\n"
          ]
        }
      ]
    },
    {
      "cell_type": "code",
      "source": [
        "team1 = marvel_heroes[0::2]\n",
        "team2 = marvel_heroes[1::2]\n",
        "\n",
        "print(team1)\n",
        "print(team2)\n"
      ],
      "metadata": {
        "colab": {
          "base_uri": "https://localhost:8080/"
        },
        "id": "9_F-bd6hbYC3",
        "outputId": "8398bbd5-f4be-4963-bf1b-bf1db7871120"
      },
      "execution_count": null,
      "outputs": [
        {
          "output_type": "stream",
          "name": "stdout",
          "text": [
            "['Avengers', 'Spider-Man', 'Hulk', 'Black Widow', 'Wolverine', 'Namor']\n",
            "['X-Men', 'Iron Man', 'Thor', 'Captain America', 'Doctor Strange']\n"
          ]
        }
      ]
    },
    {
      "cell_type": "code",
      "source": [
        "new1 = marvel_heroes[2]\n",
        "\n",
        "new2 = new1[0:6]\n",
        "\n",
        "print(new1)\n",
        "print(new2)"
      ],
      "metadata": {
        "colab": {
          "base_uri": "https://localhost:8080/"
        },
        "id": "UorllnimcTKU",
        "outputId": "ee616c3f-584a-4f0b-edd2-94350570112f"
      },
      "execution_count": null,
      "outputs": [
        {
          "output_type": "stream",
          "name": "stdout",
          "text": [
            "Spider-Man\n",
            "Spider\n"
          ]
        }
      ]
    },
    {
      "cell_type": "code",
      "source": [
        "new3 = marvel_heroes[3]\n",
        "\n",
        "new_reverse = new3[::-1]\n",
        "\n",
        "print(new3)\n",
        "print(new_reverse)"
      ],
      "metadata": {
        "colab": {
          "base_uri": "https://localhost:8080/"
        },
        "id": "E7JXAbVsdCGt",
        "outputId": "8cdf7787-4408-4fd1-c43e-bafb753aac2d"
      },
      "execution_count": null,
      "outputs": [
        {
          "output_type": "stream",
          "name": "stdout",
          "text": [
            "Iron Man\n",
            "naM norI\n"
          ]
        }
      ]
    },
    {
      "cell_type": "markdown",
      "source": [
        "##30. Backetball score tracker class"
      ],
      "metadata": {
        "id": "AYRD0E88E4iK"
      }
    },
    {
      "cell_type": "code",
      "source": [
        "## Basketball score tracker oops = completed\n",
        "\n",
        "class basketball_game:\n",
        "\n",
        "  def __init__ (self):\n",
        "\n",
        "    self.score1 = 0\n",
        "    self.score2 = 0\n",
        "\n",
        "  def update_(self , new_pts1 , new_pts2):\n",
        "\n",
        "    if type(new_pts1) == str or type(new_pts2) == str:\n",
        "      raise ValueError(\"Pls input num\")\n",
        "\n",
        "    print(type(new_pts1))\n",
        "    self.score1 = self.score1 + new_pts1\n",
        "    self.score2 = self.score2 + new_pts2\n",
        "\n",
        "\n",
        "  def print_(self):\n",
        "    print(\"Latest score for team1 : \",self.score1)\n",
        "    print(\"Latest score for team2 : \",self.score2)"
      ],
      "metadata": {
        "id": "99yybyE6dYDf"
      },
      "execution_count": null,
      "outputs": []
    },
    {
      "cell_type": "code",
      "source": [
        "score = basketball_game()\n",
        "\n",
        "score.update_(2,3)\n",
        "\n",
        "score.print_()\n"
      ],
      "metadata": {
        "colab": {
          "base_uri": "https://localhost:8080/"
        },
        "id": "JKgHtge-gdif",
        "outputId": "3574344e-5c25-42a6-9fba-b521c1488847"
      },
      "execution_count": null,
      "outputs": [
        {
          "output_type": "stream",
          "name": "stdout",
          "text": [
            "Latest score for team1 :  2\n",
            "Latest score for team2 :  3\n"
          ]
        }
      ]
    },
    {
      "cell_type": "code",
      "source": [
        "score.update_(1,1)\n",
        "score.print_()"
      ],
      "metadata": {
        "colab": {
          "base_uri": "https://localhost:8080/"
        },
        "id": "EoUvL4XKhs1r",
        "outputId": "1a8bdcdb-89ef-4c8e-8192-6e30afcddb83"
      },
      "execution_count": null,
      "outputs": [
        {
          "output_type": "stream",
          "name": "stdout",
          "text": [
            "Latest score for team1 :  3\n",
            "Latest score for team2 :  4\n"
          ]
        }
      ]
    },
    {
      "cell_type": "code",
      "source": [
        "score.update_(1,1)\n",
        "score.print_()"
      ],
      "metadata": {
        "colab": {
          "base_uri": "https://localhost:8080/"
        },
        "id": "SgfDDTLkhy-n",
        "outputId": "ca1f4f92-3ae5-4032-8692-3f6778f8a9b8"
      },
      "execution_count": null,
      "outputs": [
        {
          "output_type": "stream",
          "name": "stdout",
          "text": [
            "Latest score for team1 :  5\n",
            "Latest score for team2 :  6\n"
          ]
        }
      ]
    },
    {
      "cell_type": "code",
      "source": [
        "score.update_('a' , 'a')"
      ],
      "metadata": {
        "colab": {
          "base_uri": "https://localhost:8080/",
          "height": 280
        },
        "id": "xpWB2fSPR80h",
        "outputId": "35598c99-dc38-4f44-b128-5909e728f61c"
      },
      "execution_count": null,
      "outputs": [
        {
          "output_type": "stream",
          "name": "stdout",
          "text": [
            "inside\n"
          ]
        },
        {
          "output_type": "error",
          "ename": "ValueError",
          "evalue": "Pls input num",
          "traceback": [
            "\u001b[0;31m---------------------------------------------------------------------------\u001b[0m",
            "\u001b[0;31mValueError\u001b[0m                                Traceback (most recent call last)",
            "\u001b[0;32m<ipython-input-5-0282b1affca3>\u001b[0m in \u001b[0;36m<cell line: 1>\u001b[0;34m()\u001b[0m\n\u001b[0;32m----> 1\u001b[0;31m \u001b[0mscore\u001b[0m\u001b[0;34m.\u001b[0m\u001b[0mupdate_\u001b[0m\u001b[0;34m(\u001b[0m\u001b[0;34m'a'\u001b[0m \u001b[0;34m,\u001b[0m \u001b[0;34m'a'\u001b[0m\u001b[0;34m)\u001b[0m\u001b[0;34m\u001b[0m\u001b[0;34m\u001b[0m\u001b[0m\n\u001b[0m",
            "\u001b[0;32m<ipython-input-2-d76db982e92d>\u001b[0m in \u001b[0;36mupdate_\u001b[0;34m(self, new_pts1, new_pts2)\u001b[0m\n\u001b[1;32m     12\u001b[0m     \u001b[0;32mif\u001b[0m \u001b[0mtype\u001b[0m\u001b[0;34m(\u001b[0m\u001b[0mnew_pts1\u001b[0m\u001b[0;34m)\u001b[0m \u001b[0;34m==\u001b[0m \u001b[0mstr\u001b[0m \u001b[0;32mor\u001b[0m \u001b[0mtype\u001b[0m\u001b[0;34m(\u001b[0m\u001b[0mnew_pts2\u001b[0m\u001b[0;34m)\u001b[0m \u001b[0;34m==\u001b[0m \u001b[0mstr\u001b[0m\u001b[0;34m:\u001b[0m\u001b[0;34m\u001b[0m\u001b[0;34m\u001b[0m\u001b[0m\n\u001b[1;32m     13\u001b[0m       \u001b[0mprint\u001b[0m\u001b[0;34m(\u001b[0m\u001b[0;34m\"inside\"\u001b[0m\u001b[0;34m)\u001b[0m\u001b[0;34m\u001b[0m\u001b[0;34m\u001b[0m\u001b[0m\n\u001b[0;32m---> 14\u001b[0;31m       \u001b[0;32mraise\u001b[0m \u001b[0mValueError\u001b[0m\u001b[0;34m(\u001b[0m\u001b[0;34m\"Pls input num\"\u001b[0m\u001b[0;34m)\u001b[0m\u001b[0;34m\u001b[0m\u001b[0;34m\u001b[0m\u001b[0m\n\u001b[0m\u001b[1;32m     15\u001b[0m \u001b[0;34m\u001b[0m\u001b[0m\n\u001b[1;32m     16\u001b[0m     \u001b[0mself\u001b[0m\u001b[0;34m.\u001b[0m\u001b[0mscore1\u001b[0m \u001b[0;34m=\u001b[0m \u001b[0mself\u001b[0m\u001b[0;34m.\u001b[0m\u001b[0mscore1\u001b[0m \u001b[0;34m+\u001b[0m \u001b[0mnew_pts1\u001b[0m\u001b[0;34m\u001b[0m\u001b[0;34m\u001b[0m\u001b[0m\n",
            "\u001b[0;31mValueError\u001b[0m: Pls input num"
          ]
        }
      ]
    },
    {
      "cell_type": "code",
      "source": [
        "  a = 'aa'\n",
        "  b = 'bb'\n",
        "\n",
        "  if a.isalpha() or b.isalpha():\n",
        "    print(\"inside\")\n",
        "    raise ValueError(\"Pls input num\")\n",
        "  else:\n",
        "    print(\"num\")"
      ],
      "metadata": {
        "id": "pL9RhTPpi-i_"
      },
      "execution_count": null,
      "outputs": []
    },
    {
      "cell_type": "code",
      "source": [
        "s = 'abs'\n",
        "\n",
        "if s.isalpha():\n",
        "  print(\"working\")"
      ],
      "metadata": {
        "colab": {
          "base_uri": "https://localhost:8080/"
        },
        "id": "yDNNpY4AkAGO",
        "outputId": "a48ef750-9321-4eb8-dc76-6880add61bf8"
      },
      "execution_count": null,
      "outputs": [
        {
          "output_type": "stream",
          "name": "stdout",
          "text": [
            "working\n"
          ]
        }
      ]
    },
    {
      "cell_type": "code",
      "source": [
        "score.update_(a , 1)"
      ],
      "metadata": {
        "colab": {
          "base_uri": "https://localhost:8080/",
          "height": 141
        },
        "id": "vid5_MWBkiY3",
        "outputId": "4c56cf8b-0d7c-4f06-8bbd-cde7ad468941"
      },
      "execution_count": null,
      "outputs": [
        {
          "output_type": "error",
          "ename": "NameError",
          "evalue": "name 'a' is not defined",
          "traceback": [
            "\u001b[0;31m---------------------------------------------------------------------------\u001b[0m",
            "\u001b[0;31mNameError\u001b[0m                                 Traceback (most recent call last)",
            "\u001b[0;32m<ipython-input-6-ab32a38eb62c>\u001b[0m in \u001b[0;36m<cell line: 1>\u001b[0;34m()\u001b[0m\n\u001b[0;32m----> 1\u001b[0;31m \u001b[0mscore\u001b[0m\u001b[0;34m.\u001b[0m\u001b[0mupdate_\u001b[0m\u001b[0;34m(\u001b[0m\u001b[0ma\u001b[0m \u001b[0;34m,\u001b[0m \u001b[0;36m1\u001b[0m\u001b[0;34m)\u001b[0m\u001b[0;34m\u001b[0m\u001b[0;34m\u001b[0m\u001b[0m\n\u001b[0m",
            "\u001b[0;31mNameError\u001b[0m: name 'a' is not defined"
          ]
        }
      ]
    },
    {
      "cell_type": "code",
      "source": [
        "b = 'a'\n",
        "score.update_(b,1)\n",
        "score.print_()"
      ],
      "metadata": {
        "id": "Z31GlzyWmETK",
        "colab": {
          "base_uri": "https://localhost:8080/",
          "height": 315
        },
        "outputId": "f3b8e673-1d32-45e9-b60f-37c47c9bbff0"
      },
      "execution_count": null,
      "outputs": [
        {
          "output_type": "stream",
          "name": "stdout",
          "text": [
            "inside\n"
          ]
        },
        {
          "output_type": "error",
          "ename": "ValueError",
          "evalue": "Pls input num",
          "traceback": [
            "\u001b[0;31m---------------------------------------------------------------------------\u001b[0m",
            "\u001b[0;31mValueError\u001b[0m                                Traceback (most recent call last)",
            "\u001b[0;32m<ipython-input-10-fea52b2f5c30>\u001b[0m in \u001b[0;36m<cell line: 2>\u001b[0;34m()\u001b[0m\n\u001b[1;32m      1\u001b[0m \u001b[0mb\u001b[0m \u001b[0;34m=\u001b[0m \u001b[0;34m'a'\u001b[0m\u001b[0;34m\u001b[0m\u001b[0;34m\u001b[0m\u001b[0m\n\u001b[0;32m----> 2\u001b[0;31m \u001b[0mscore\u001b[0m\u001b[0;34m.\u001b[0m\u001b[0mupdate_\u001b[0m\u001b[0;34m(\u001b[0m\u001b[0mb\u001b[0m\u001b[0;34m,\u001b[0m\u001b[0;36m1\u001b[0m\u001b[0;34m)\u001b[0m\u001b[0;34m\u001b[0m\u001b[0;34m\u001b[0m\u001b[0m\n\u001b[0m\u001b[1;32m      3\u001b[0m \u001b[0mscore\u001b[0m\u001b[0;34m.\u001b[0m\u001b[0mprint_\u001b[0m\u001b[0;34m(\u001b[0m\u001b[0;34m)\u001b[0m\u001b[0;34m\u001b[0m\u001b[0;34m\u001b[0m\u001b[0m\n",
            "\u001b[0;32m<ipython-input-2-d76db982e92d>\u001b[0m in \u001b[0;36mupdate_\u001b[0;34m(self, new_pts1, new_pts2)\u001b[0m\n\u001b[1;32m     12\u001b[0m     \u001b[0;32mif\u001b[0m \u001b[0mtype\u001b[0m\u001b[0;34m(\u001b[0m\u001b[0mnew_pts1\u001b[0m\u001b[0;34m)\u001b[0m \u001b[0;34m==\u001b[0m \u001b[0mstr\u001b[0m \u001b[0;32mor\u001b[0m \u001b[0mtype\u001b[0m\u001b[0;34m(\u001b[0m\u001b[0mnew_pts2\u001b[0m\u001b[0;34m)\u001b[0m \u001b[0;34m==\u001b[0m \u001b[0mstr\u001b[0m\u001b[0;34m:\u001b[0m\u001b[0;34m\u001b[0m\u001b[0;34m\u001b[0m\u001b[0m\n\u001b[1;32m     13\u001b[0m       \u001b[0mprint\u001b[0m\u001b[0;34m(\u001b[0m\u001b[0;34m\"inside\"\u001b[0m\u001b[0;34m)\u001b[0m\u001b[0;34m\u001b[0m\u001b[0;34m\u001b[0m\u001b[0m\n\u001b[0;32m---> 14\u001b[0;31m       \u001b[0;32mraise\u001b[0m \u001b[0mValueError\u001b[0m\u001b[0;34m(\u001b[0m\u001b[0;34m\"Pls input num\"\u001b[0m\u001b[0;34m)\u001b[0m\u001b[0;34m\u001b[0m\u001b[0;34m\u001b[0m\u001b[0m\n\u001b[0m\u001b[1;32m     15\u001b[0m \u001b[0;34m\u001b[0m\u001b[0m\n\u001b[1;32m     16\u001b[0m     \u001b[0mself\u001b[0m\u001b[0;34m.\u001b[0m\u001b[0mscore1\u001b[0m \u001b[0;34m=\u001b[0m \u001b[0mself\u001b[0m\u001b[0;34m.\u001b[0m\u001b[0mscore1\u001b[0m \u001b[0;34m+\u001b[0m \u001b[0mnew_pts1\u001b[0m\u001b[0;34m\u001b[0m\u001b[0;34m\u001b[0m\u001b[0m\n",
            "\u001b[0;31mValueError\u001b[0m: Pls input num"
          ]
        }
      ]
    },
    {
      "cell_type": "markdown",
      "source": [
        "##8. Arithmetic Op\n",
        "##1. Area of sq\n",
        "##2. Volume of cube\n",
        "##3. Quotient and remainder when dividing\n"
      ],
      "metadata": {
        "id": "jF1pN4L297QF"
      }
    },
    {
      "cell_type": "code",
      "source": [
        "## Arithmetic op in data types = completed\n",
        "\n",
        "'''\n",
        "area of sq\n",
        "volume of cube\n",
        "quotient and remainder when dividing\n",
        "'''\n",
        "\n",
        "def sq_area(side):\n",
        "  return side**2\n",
        "\n",
        "def cube_vol(side):\n",
        "  return side**3\n",
        "\n",
        "def total_div(num1 , num2):\n",
        "\n",
        "  if num2 == 0:\n",
        "    raise ZeroDivisionError(\"Pls input num2 not equal to 0\")\n",
        "\n",
        "  elif type(num1) == str or type(num2) == str:\n",
        "    raise ValueError(\"Pls input numerical value\")\n",
        "\n",
        "  else:\n",
        "    print(\"Quotient1 = \" , round(num1/num2 , 2))\n",
        "    print(\"Quotient2 = \", num1//num2 )\n",
        "    print(\"Remainder = \", num1%num2)\n"
      ],
      "metadata": {
        "id": "rDZ1CtmfTH01"
      },
      "execution_count": null,
      "outputs": []
    },
    {
      "cell_type": "code",
      "source": [
        "print(sq_area(5))\n",
        "print(cube_vol(12))\n",
        "print(total_div(0, 0))"
      ],
      "metadata": {
        "colab": {
          "base_uri": "https://localhost:8080/",
          "height": 332
        },
        "id": "GZrLlpbCXyC_",
        "outputId": "d3591cff-4101-4b80-e2d7-ef98497c7dd7"
      },
      "execution_count": null,
      "outputs": [
        {
          "output_type": "stream",
          "name": "stdout",
          "text": [
            "25\n",
            "1728\n"
          ]
        },
        {
          "output_type": "error",
          "ename": "ZeroDivisionError",
          "evalue": "Pls input num2 not equal to 0",
          "traceback": [
            "\u001b[0;31m---------------------------------------------------------------------------\u001b[0m",
            "\u001b[0;31mZeroDivisionError\u001b[0m                         Traceback (most recent call last)",
            "\u001b[0;32m<ipython-input-17-244549098d37>\u001b[0m in \u001b[0;36m<cell line: 3>\u001b[0;34m()\u001b[0m\n\u001b[1;32m      1\u001b[0m \u001b[0mprint\u001b[0m\u001b[0;34m(\u001b[0m\u001b[0msq_area\u001b[0m\u001b[0;34m(\u001b[0m\u001b[0;36m5\u001b[0m\u001b[0;34m)\u001b[0m\u001b[0;34m)\u001b[0m\u001b[0;34m\u001b[0m\u001b[0;34m\u001b[0m\u001b[0m\n\u001b[1;32m      2\u001b[0m \u001b[0mprint\u001b[0m\u001b[0;34m(\u001b[0m\u001b[0mcube_vol\u001b[0m\u001b[0;34m(\u001b[0m\u001b[0;36m12\u001b[0m\u001b[0;34m)\u001b[0m\u001b[0;34m)\u001b[0m\u001b[0;34m\u001b[0m\u001b[0;34m\u001b[0m\u001b[0m\n\u001b[0;32m----> 3\u001b[0;31m \u001b[0mprint\u001b[0m\u001b[0;34m(\u001b[0m\u001b[0mtotal_div\u001b[0m\u001b[0;34m(\u001b[0m\u001b[0;36m0\u001b[0m\u001b[0;34m,\u001b[0m \u001b[0;36m0\u001b[0m\u001b[0;34m)\u001b[0m\u001b[0;34m)\u001b[0m\u001b[0;34m\u001b[0m\u001b[0;34m\u001b[0m\u001b[0m\n\u001b[0m",
            "\u001b[0;32m<ipython-input-16-7aa7e3af5d5d>\u001b[0m in \u001b[0;36mtotal_div\u001b[0;34m(num1, num2)\u001b[0m\n\u001b[1;32m     16\u001b[0m \u001b[0;34m\u001b[0m\u001b[0m\n\u001b[1;32m     17\u001b[0m   \u001b[0;32mif\u001b[0m \u001b[0mnum2\u001b[0m \u001b[0;34m==\u001b[0m \u001b[0;36m0\u001b[0m\u001b[0;34m:\u001b[0m\u001b[0;34m\u001b[0m\u001b[0;34m\u001b[0m\u001b[0m\n\u001b[0;32m---> 18\u001b[0;31m     \u001b[0;32mraise\u001b[0m \u001b[0mZeroDivisionError\u001b[0m\u001b[0;34m(\u001b[0m\u001b[0;34m\"Pls input num2 not equal to 0\"\u001b[0m\u001b[0;34m)\u001b[0m\u001b[0;34m\u001b[0m\u001b[0;34m\u001b[0m\u001b[0m\n\u001b[0m\u001b[1;32m     19\u001b[0m \u001b[0;34m\u001b[0m\u001b[0m\n\u001b[1;32m     20\u001b[0m   \u001b[0;32melif\u001b[0m \u001b[0mtype\u001b[0m\u001b[0;34m(\u001b[0m\u001b[0mnum1\u001b[0m\u001b[0;34m)\u001b[0m \u001b[0;34m==\u001b[0m \u001b[0mstr\u001b[0m \u001b[0;32mor\u001b[0m \u001b[0mtype\u001b[0m\u001b[0;34m(\u001b[0m\u001b[0mnum2\u001b[0m\u001b[0;34m)\u001b[0m \u001b[0;34m==\u001b[0m \u001b[0mstr\u001b[0m\u001b[0;34m:\u001b[0m\u001b[0;34m\u001b[0m\u001b[0;34m\u001b[0m\u001b[0m\n",
            "\u001b[0;31mZeroDivisionError\u001b[0m: Pls input num2 not equal to 0"
          ]
        }
      ]
    },
    {
      "cell_type": "markdown",
      "source": [
        "##9. Bags comparison"
      ],
      "metadata": {
        "id": "jS7cofhm-gus"
      }
    },
    {
      "cell_type": "code",
      "source": [
        "## Bags comparison = completed\n",
        "\n",
        "def bags_comp(wt1 , wt2):\n",
        "\n",
        "  if wt1 >= 13 or wt2 >= 13:\n",
        "    print(\"Youn cannot go , Pls make both bags wts less than 13kg\")\n",
        "  elif wt1 < 6 or wt2 <6:\n",
        "    print(\"Enjoy your trip\")\n",
        "  else:\n",
        "    print(\"You cannot go , Pls make only one bag smaller than 6kg\")\n",
        "\n",
        "\n"
      ],
      "metadata": {
        "id": "EAlbJulJYF_A"
      },
      "execution_count": null,
      "outputs": []
    },
    {
      "cell_type": "code",
      "source": [
        "bags_comp(110 , 5)"
      ],
      "metadata": {
        "colab": {
          "base_uri": "https://localhost:8080/"
        },
        "id": "5_SKxZeZa6UM",
        "outputId": "21e9ba60-862d-486c-f286-158bc329878b"
      },
      "execution_count": null,
      "outputs": [
        {
          "output_type": "stream",
          "name": "stdout",
          "text": [
            "Youn cannot go , Pls make both bags wts less than 13kg\n"
          ]
        }
      ]
    },
    {
      "cell_type": "markdown",
      "source": [
        "##10. Count books that contains word 'python'"
      ],
      "metadata": {
        "id": "tFqhCi25-o-y"
      }
    },
    {
      "cell_type": "code",
      "source": [
        "## count books that contains word python = completed\n",
        "\n",
        "books_lst = [\n",
        "    \"Python for Data Science Handbook by Jake VanderPlas\",\n",
        "    \"The Pragmatic Programmer by Andrew Hunt and David Thomas\",\n",
        "    \"Python Machine Learning by Sebastian Raschka\",\n",
        "    \"The Alchemist by Paulo Coelho\",\n",
        "]\n",
        "totalp , totalP , total = 0,0,0\n",
        "for book in books_lst:\n",
        "  totalP = totalP + book.count(\"Python\")\n",
        "  totalp = totalp + book.count(\"python\")\n",
        "\n",
        "total = totalP + totalp\n",
        "\n",
        "print(total)"
      ],
      "metadata": {
        "colab": {
          "base_uri": "https://localhost:8080/"
        },
        "id": "IjwpMCKdbIna",
        "outputId": "cac50b3a-2ac0-403d-8209-6b40eda19c45"
      },
      "execution_count": null,
      "outputs": [
        {
          "output_type": "stream",
          "name": "stdout",
          "text": [
            "2\n"
          ]
        }
      ]
    },
    {
      "cell_type": "markdown",
      "source": [
        "##11.Using built function like split()\n",
        "##1. Create a list containing the three sentences in the statement.\n",
        "##2. The name 'anas' is spelled wrong. Replace it with 'Anas'.\n",
        "##3. The title of the book is not written in the correct cases as well. Make corrections there.\n",
        "##4. You believe \"The Shawshank Redemption\" would be bit too gloomy for the lot. Take user input of which movie to recommend and replace \"The Shawshank Redemption\" from the statement with the new recommendation.\n"
      ],
      "metadata": {
        "id": "rikQFsvQ-59I"
      }
    },
    {
      "cell_type": "code",
      "source": [
        "#### str built in functions = completed\n",
        "\n",
        "statement = \"anas eagerly recommended 'the shawshank redemption' to his friends. He described the movie as a captivating and emotional story of hope and friendship. His friends decided to watch it together the following weekend.\"\n",
        "\n",
        "sent_lst = statement.split(\".\")\n",
        "\n",
        "new = statement.replace('anas' , 'Anas')\n",
        "\n",
        "new = statement.replace(\"the shawshank redemption\" , \"The Shawshank Redemption\")\n",
        "\n",
        "new_m = input(\"Write your favorite movie : \")\n",
        "\n",
        "new = statement.replace(\"the shawshank redemption\" , new_m)\n",
        "\n",
        "print(new)"
      ],
      "metadata": {
        "colab": {
          "base_uri": "https://localhost:8080/"
        },
        "id": "jD-1iDkQdsr0",
        "outputId": "eff89737-8e8a-4a0b-f37a-2d8d46b8f26e"
      },
      "execution_count": null,
      "outputs": [
        {
          "output_type": "stream",
          "name": "stdout",
          "text": [
            "Write your favorite movie : iron Man\n",
            "anas eagerly recommended 'iron Man' to his friends. He described the movie as a captivating and emotional story of hope and friendship. His friends decided to watch it together the following weekend.\n"
          ]
        }
      ]
    },
    {
      "cell_type": "markdown",
      "source": [
        "##12. Suppose you have a collection of your favorite movies and you want to keep track of them using a Python list. You start with an empty list [] and keep adding new movies to it. You also want to be able to remove movies that you have watched or no longer wish to keep in your collection. Finally, you want to be able to count how many movies you have in your collection and reverse the order of the list."
      ],
      "metadata": {
        "id": "IM6PJnse_jJH"
      }
    },
    {
      "cell_type": "code",
      "source": [
        "## Movie list = Here I am using dict intead of list = completed\n",
        "\n",
        "'''\n",
        "Create movies lst/dct dynamically\n",
        "Remove watched movies\n",
        "Then count the no.of movies in collection\n",
        "Then reverse the order of collection\n",
        "'''\n",
        "\n",
        "mov_dict = {}\n",
        "inp = input(\"To enter movies press Y else N : \")\n",
        "\n",
        "while inp in 'Yy':\n",
        "  mov = input('Movies: ')\n",
        "  value = input(\"Press 'W' for watched else 'N' :\")\n",
        "  if value not in'WNwn':\n",
        "    raise ValueError(\"Pls enter only from W , N , w , n\")\n",
        "  else:\n",
        "    mov_dict[mov] = value\n",
        "  inp = input(\"To enter movies press Y else N : \")\n",
        "\n",
        "\n",
        "dele = input(\"To delete movies press Y else N : \")\n",
        "\n",
        "while dele in 'Yy':\n",
        "  del mov_dict[input(\"Enter movies you want to del : \")]\n",
        "  dele = input(\"To delete movies press Y else N : \")\n",
        "\n",
        "\n",
        "print(mov_dict)\n",
        "\n",
        "## Reversing dict using dict comprehension:\n",
        "'''new_lst = list(mov_dict)\n",
        "rev_lst = list(reversed(new_lst))\n",
        "\n",
        "new_dict = dict(rev_lst)\n",
        "rev_dict = {v:k for k,v in new_dict.items()}\n",
        "\n",
        "print(rev_dict)'''\n",
        "\n",
        "## new_mov_dict = {k:v for k in mov_dict}"
      ],
      "metadata": {
        "colab": {
          "base_uri": "https://localhost:8080/",
          "height": 243
        },
        "id": "bQeFqUAufZqs",
        "outputId": "8e9a3898-4d3c-4043-9de9-a1ca6f179323"
      },
      "execution_count": null,
      "outputs": [
        {
          "output_type": "stream",
          "name": "stdout",
          "text": [
            "To enter movies press Y else N : Y\n",
            "Movies: IRON MAN\n",
            "Press 'W' for watched else 'N' :W\n",
            "To enter movies press Y else N : Y\n",
            "Movies: THOR\n",
            "Press 'W' for watched else 'N' :W\n",
            "To enter movies press Y else N : Y\n",
            "Movies: LOKI\n",
            "Press 'W' for watched else 'N' :W\n",
            "To enter movies press Y else N : N\n",
            "To delete movies press Y else N : N\n",
            "{'IRON MAN': 'W', 'THOR': 'W', 'LOKI': 'W'}\n"
          ]
        },
        {
          "output_type": "execute_result",
          "data": {
            "text/plain": [
              "'new_lst = list(mov_dict)\\nrev_lst = list(reversed(new_lst))\\n\\nnew_dict = dict(rev_lst)\\nrev_dict = {v:k for k,v in new_dict.items()}\\n\\nprint(rev_dict)'"
            ],
            "application/vnd.google.colaboratory.intrinsic+json": {
              "type": "string"
            }
          },
          "metadata": {},
          "execution_count": 52
        }
      ]
    },
    {
      "cell_type": "code",
      "source": [
        "mov_dict"
      ],
      "metadata": {
        "colab": {
          "base_uri": "https://localhost:8080/"
        },
        "id": "Mg6O_CZSojze",
        "outputId": "7cb60b97-b6f1-445b-80c3-ddc374fdb618"
      },
      "execution_count": null,
      "outputs": [
        {
          "output_type": "execute_result",
          "data": {
            "text/plain": [
              "{'IRON MAN': 'W', 'THOR': 'W', 'LOKI': 'W'}"
            ]
          },
          "metadata": {},
          "execution_count": 53
        }
      ]
    },
    {
      "cell_type": "markdown",
      "source": [
        "##13. Code to reverse a dict"
      ],
      "metadata": {
        "id": "tAcu6Txi_y4b"
      }
    },
    {
      "cell_type": "code",
      "source": [
        "## Code to reverse a dict\n",
        "\n",
        "%%time\n",
        "new_key_lst = list(mov_dict)\n",
        "new_value_lst = list(mov_dict.values())\n",
        "\n",
        "print(new_key_lst)\n",
        "print(new_value_lst)\n",
        "\n",
        "rev_key_lst = list(reversed(new_key_lst))\n",
        "rev_value_lst = list(reversed(new_value_lst))\n",
        "\n",
        "print(rev_key_lst)\n",
        "print(rev_value_lst)\n",
        "\n",
        "rev_t_lst = list(zip(rev_key_lst , rev_value_lst))\n",
        "\n",
        "print(rev_t_lst)\n",
        "\n",
        "rev_dict = dict(rev_t_lst)\n",
        "\n",
        "print(rev_dict)\n",
        "\n",
        "\n"
      ],
      "metadata": {
        "colab": {
          "base_uri": "https://localhost:8080/"
        },
        "id": "NIespCNppPqy",
        "outputId": "bdebdaa7-ea63-4bb7-ec9c-6705a61c2302"
      },
      "execution_count": null,
      "outputs": [
        {
          "output_type": "stream",
          "name": "stdout",
          "text": [
            "['IRON MAN', 'THOR', 'LOKI']\n",
            "['W', 'W', 'W']\n",
            "['LOKI', 'THOR', 'IRON MAN']\n",
            "['W', 'W', 'W']\n",
            "[('LOKI', 'W'), ('THOR', 'W'), ('IRON MAN', 'W')]\n",
            "{'LOKI': 'W', 'THOR': 'W', 'IRON MAN': 'W'}\n",
            "CPU times: user 3.15 ms, sys: 0 ns, total: 3.15 ms\n",
            "Wall time: 3.45 ms\n"
          ]
        }
      ]
    },
    {
      "cell_type": "markdown",
      "source": [
        "##14. Building a Guessing Game\n"
      ],
      "metadata": {
        "id": "VyJsPFfBA_XY"
      }
    },
    {
      "cell_type": "code",
      "source": [
        "## Guessing game = completed\n",
        "import random\n",
        "\n",
        "rndm_num = random.randint(1 , 101)\n",
        "\n",
        "guess = int(input(\"Guess the number btw 1 to 100 in 7 tries : \"))\n",
        "tries = 6\n",
        "\n",
        "while tries != 0:\n",
        "  if guess > rndm_num and abs(guess - rndm_num) > 20:\n",
        "    print(\"The guess is too high\")\n",
        "    tries -= 1\n",
        "  elif guess > rndm_num and abs(guess - rndm_num) in range(10,20):\n",
        "    print(\"The guess is high by 10 to 20 diff but close\")\n",
        "    tries -= 1\n",
        "  elif guess > rndm_num and abs(guess - rndm_num) in range(5,10):\n",
        "    print(\"The guess is high by 5 to 10 diff but close\")\n",
        "    tries -= 1\n",
        "  elif guess > rndm_num and abs(guess - rndm_num) in range(1,5):\n",
        "    print(\"The guess is high by 1 to 5 diff but close\")\n",
        "    tries -= 1\n",
        "  elif guess < rndm_num and abs(guess - rndm_num) > 20:\n",
        "    print(\"The guess is too low\")\n",
        "    tries -= 1\n",
        "  elif guess < rndm_num and abs(guess - rndm_num) in range(10,20):\n",
        "    print(\"The guess is low by 1 to 20 diff but close\")\n",
        "    tries -= 1\n",
        "  elif guess < rndm_num and abs(guess - rndm_num) in range(5,10):\n",
        "    print(\"The guess is low by 5 to 10 diff but close\")\n",
        "    tries -= 1\n",
        "  elif guess < rndm_num and abs(guess - rndm_num) in range(1,5):\n",
        "    print(\"The guess is low by 1 to 5 diff but close\")\n",
        "    tries -= 1\n",
        "  elif guess == rndm_num:\n",
        "    print(\"You guessed correct\")\n",
        "    break\n",
        "\n",
        "  guess = int(input(\"Guess the number btw 1 to 100 in 4 tries : \"))\n",
        "\n",
        "if guess != rndm_num and tries == 0:\n",
        "  print(\"You guessed wrong: game now over\")\n",
        "  print(\"Number was = \",rndm_num)\n",
        "\n",
        "\n"
      ],
      "metadata": {
        "colab": {
          "base_uri": "https://localhost:8080/"
        },
        "id": "8FD1Vi-s1nTb",
        "outputId": "d6e47d89-97da-4a3d-8a0d-8e4881922f99"
      },
      "execution_count": null,
      "outputs": [
        {
          "output_type": "stream",
          "name": "stdout",
          "text": [
            "Guess the number btw 1 to 100 in 4 tries : 30\n",
            "You guessed correct\n"
          ]
        }
      ]
    },
    {
      "cell_type": "markdown",
      "source": [
        "##15. Calculator using conditional loop\n"
      ],
      "metadata": {
        "id": "N_d_1aC3BHHI"
      }
    },
    {
      "cell_type": "code",
      "source": [
        "## calculator using loop = completed\n",
        "\n",
        "off = 0\n",
        "while off != 1:\n",
        "\n",
        " num1 = int(input(\"Input 1st num : \"))\n",
        " num2 = int(input(\"Input 2nd num : \"))\n",
        " select = input(\"Input function you want to perform (+ , - , *  , /) :\")\n",
        "\n",
        " while select not in '+-*/':\n",
        "   print(\"Pls selcect from these (+ , - , * , /)\")\n",
        "   select = input(\"Input function you want to perform (+ , - , *  , /) :\")\n",
        "\n",
        " if select in '+':\n",
        "   print(\"sum = \" , num1+num2)\n",
        " elif select in '-':\n",
        "   print(\"Subtraction = \" , num1-num2)\n",
        " elif select in \"*\":\n",
        "   print(\"Product = \" , num1*num2)\n",
        " else:\n",
        "   print(\"Division = \" , num1/num2)\n",
        "\n",
        " off = int(input(\"TO OFF PRESS 1 else PRESS ANY: \"))\n"
      ],
      "metadata": {
        "id": "AKtAFZ9k8zVP",
        "colab": {
          "base_uri": "https://localhost:8080/"
        },
        "outputId": "0e84af70-9bfb-49e4-9227-10b1877e4c66"
      },
      "execution_count": null,
      "outputs": [
        {
          "name": "stdout",
          "output_type": "stream",
          "text": [
            "Input 1st num : 1\n",
            "Input 2nd num : 2\n",
            "Input function you want to perform (+ , - , *  , /) :a\n",
            "Pls selcect from these (+ , - , * , /)\n",
            "Input function you want to perform (+ , - , *  , /) :d\n",
            "Pls selcect from these (+ , - , * , /)\n",
            "Input function you want to perform (+ , - , *  , /) :/\n",
            "Division =  0.5\n",
            "TO OFF PRESS 1: 1\n"
          ]
        }
      ]
    },
    {
      "cell_type": "markdown",
      "source": [
        "##16. Fib seq generator\n"
      ],
      "metadata": {
        "id": "x7slVPeqBUqM"
      }
    },
    {
      "cell_type": "code",
      "source": [
        "## Fib seq generator = completed\n",
        "\n",
        "def fib(t_seq):\n",
        "\n",
        "  prev = 0\n",
        "  next = 1\n",
        "\n",
        "  if t_seq == 1:\n",
        "    print(prev)\n",
        "  elif t_seq == 2:\n",
        "    print(prev)\n",
        "    print(next)\n",
        "  else:\n",
        "    print(prev)\n",
        "    print(next)\n",
        "    t_seq -= 2\n",
        "    while t_seq != 0:\n",
        "      temp = 0\n",
        "      temp = prev + next\n",
        "      prev = next\n",
        "      next = temp\n",
        "      print(temp)\n",
        "      t_seq -= 1\n",
        "    return"
      ],
      "metadata": {
        "id": "FV4eEF2aoefC"
      },
      "execution_count": null,
      "outputs": []
    },
    {
      "cell_type": "code",
      "source": [
        "fib(6)"
      ],
      "metadata": {
        "colab": {
          "base_uri": "https://localhost:8080/"
        },
        "id": "cpqsaZQGwudF",
        "outputId": "651581b4-9192-4977-bc8a-5b3cdbb0bae3"
      },
      "execution_count": null,
      "outputs": [
        {
          "output_type": "stream",
          "name": "stdout",
          "text": [
            "0\n",
            "1\n",
            "1\n",
            "2\n",
            "3\n",
            "5\n"
          ]
        }
      ]
    },
    {
      "cell_type": "markdown",
      "source": [
        ":##17. Counting no.of times the given digit occurs in given range"
      ],
      "metadata": {
        "id": "lk_fAUXABmwm"
      }
    },
    {
      "cell_type": "code",
      "source": [
        "## counting digits = completed\n",
        "\n",
        "'''\n",
        "enter range num1\n",
        "enter range num2\n",
        "enter digit to count\n",
        "output count of digit in given range\n",
        "\n",
        "'''\n",
        "\n",
        "num1 = int(input(\"Enter range num1 : \"))\n",
        "num2 = int(input(\"Enter range num2 : \"))\n",
        "digit = int(input(\"Enter the digit to count : \"))\n",
        "\n",
        "###################################################\n",
        "count = 0\n",
        "for x in range(num1 , num2+1):\n",
        "\n",
        "  if str(digit) in str(x):\n",
        "    count += str(x).count(str(digit))\n",
        "    print(x , \" : \" , count)\n",
        "\n",
        "print(\"Your final count is : \" , count)"
      ],
      "metadata": {
        "id": "k9iKRIYLw5I0",
        "colab": {
          "base_uri": "https://localhost:8080/"
        },
        "outputId": "d75a2719-397d-4d23-ddef-525967d7b4ae"
      },
      "execution_count": null,
      "outputs": [
        {
          "output_type": "stream",
          "name": "stdout",
          "text": [
            "Enter range num1 : 1\n",
            "Enter range num2 : 100\n",
            "Enter the digit to count : 1\n",
            "1  :  1\n",
            "10  :  2\n",
            "11  :  4\n",
            "12  :  5\n",
            "13  :  6\n",
            "14  :  7\n",
            "15  :  8\n",
            "16  :  9\n",
            "17  :  10\n",
            "18  :  11\n",
            "19  :  12\n",
            "21  :  13\n",
            "31  :  14\n",
            "41  :  15\n",
            "51  :  16\n",
            "61  :  17\n",
            "71  :  18\n",
            "81  :  19\n",
            "91  :  20\n",
            "100  :  21\n",
            "Your final count is :  21\n"
          ]
        }
      ]
    },
    {
      "cell_type": "code",
      "source": [
        "list(range(1 , 2))"
      ],
      "metadata": {
        "colab": {
          "base_uri": "https://localhost:8080/"
        },
        "id": "lvT67zZ46TDU",
        "outputId": "b1f44c94-6503-44a1-9720-6bd21c674c33"
      },
      "execution_count": null,
      "outputs": [
        {
          "output_type": "execute_result",
          "data": {
            "text/plain": [
              "[1]"
            ]
          },
          "metadata": {},
          "execution_count": 13
        }
      ]
    },
    {
      "cell_type": "markdown",
      "source": [
        "##18. Rolling a dice"
      ],
      "metadata": {
        "id": "EbwHNPDqB9dJ"
      }
    },
    {
      "cell_type": "code",
      "source": [
        "## Rolling a dice = completed\n",
        "\n",
        "import random\n",
        "off = 0\n",
        "while off != 1:\n",
        " dice = random.randint(1 , 6)\n",
        " print(dice)\n",
        " off = int(input(\"To roll the dice more press 0 else 1 : \"))"
      ],
      "metadata": {
        "colab": {
          "base_uri": "https://localhost:8080/"
        },
        "id": "9NTmPHO86W7g",
        "outputId": "22234090-7982-4f1f-ab60-9ce080c4f97c"
      },
      "execution_count": null,
      "outputs": [
        {
          "name": "stdout",
          "output_type": "stream",
          "text": [
            "1\n",
            "To roll the dice more press 0 else 1 : 0\n",
            "5\n",
            "To roll the dice more press 0 else 1 : 0\n",
            "6\n",
            "To roll the dice more press 0 else 1 : 0\n",
            "2\n",
            "To roll the dice more press 0 else 1 : 0\n",
            "6\n",
            "To roll the dice more press 0 else 1 : 0\n",
            "4\n",
            "To roll the dice more press 0 else 1 : 0\n",
            "1\n",
            "To roll the dice more press 0 else 1 : 0\n",
            "1\n",
            "To roll the dice more press 0 else 1 : 0\n",
            "3\n",
            "To roll the dice more press 0 else 1 : 0\n",
            "5\n",
            "To roll the dice more press 0 else 1 : 0\n",
            "4\n",
            "To roll the dice more press 0 else 1 : 1\n"
          ]
        }
      ]
    },
    {
      "cell_type": "markdown",
      "source": [
        "##19. Cel to fahrenheit"
      ],
      "metadata": {
        "id": "sjde4L6mCaIr"
      }
    },
    {
      "cell_type": "code",
      "source": [
        "## celsius to fahrenheit = completed\n",
        "\n",
        "cel = float(input(\"Input celsius value : \"))\n",
        "\n",
        "fah = cel*(9/5) + 32\n",
        "\n",
        "print(\"The fahrenheit value : \" , fah)\n",
        "\n"
      ],
      "metadata": {
        "colab": {
          "base_uri": "https://localhost:8080/"
        },
        "id": "RS5fJ-4S9jfy",
        "outputId": "3ead75e9-9a09-47b4-e27e-1fc41d03d7fe"
      },
      "execution_count": null,
      "outputs": [
        {
          "output_type": "stream",
          "name": "stdout",
          "text": [
            "Input celsius value : 20\n",
            "The fahrenheit value :  68.0\n"
          ]
        }
      ]
    },
    {
      "cell_type": "markdown",
      "source": [
        "##20. Sum of odd index numbers = completed"
      ],
      "metadata": {
        "id": "DizXpYasCfup"
      }
    },
    {
      "cell_type": "code",
      "source": [
        "## sum of odd index numbers = completed\n",
        "\n",
        "def sum_odd(lst):\n",
        "  x = 0\n",
        "  sum = 0\n",
        "  for index , value in enumerate(lst):\n",
        "    if (index+1) % 2 != 0:\n",
        "      sum += value\n",
        "  return sum"
      ],
      "metadata": {
        "id": "n1J0j0cj_M37"
      },
      "execution_count": null,
      "outputs": []
    },
    {
      "cell_type": "code",
      "source": [
        "lst = [1,2,3,4]\n",
        "for x , y in enumerate(lst):\n",
        "  print(x , \" : \" , y)"
      ],
      "metadata": {
        "colab": {
          "base_uri": "https://localhost:8080/"
        },
        "id": "OrvU33ZWBIRM",
        "outputId": "ccbb6cf7-f065-4ce0-8966-9ece36473c0b"
      },
      "execution_count": null,
      "outputs": [
        {
          "output_type": "stream",
          "name": "stdout",
          "text": [
            "0  :  1\n",
            "1  :  2\n",
            "2  :  3\n",
            "3  :  4\n"
          ]
        }
      ]
    },
    {
      "cell_type": "code",
      "source": [
        "lst = [1,2,3,4]\n",
        "print(sum_odd(lst))"
      ],
      "metadata": {
        "colab": {
          "base_uri": "https://localhost:8080/"
        },
        "id": "RyBBoW5UBOf4",
        "outputId": "7ffb76f8-7da9-48db-9c23-c320612db64e"
      },
      "execution_count": null,
      "outputs": [
        {
          "output_type": "stream",
          "name": "stdout",
          "text": [
            "4\n"
          ]
        }
      ]
    },
    {
      "cell_type": "markdown",
      "source": [
        "##21. Add of sq of odd nums in lst using lamda,map,filter,zip"
      ],
      "metadata": {
        "id": "jMCGBGGwCyd8"
      }
    },
    {
      "cell_type": "code",
      "source": [
        "## sum of sq of odd nums in lst = Giving error in this notebook but not in other notebook\n",
        "\n",
        "'''\n",
        "lst = [1 , 2 , 3 , 4]\n",
        "sum = 0\n",
        "for x in lst:\n",
        "  sum += x**2\n",
        "  print(sum)\n",
        "'''\n",
        "lst = list((input(\"Input nums for sum of sq : \").split(\",\")))\n",
        "lst = list(map(int , lst))\n",
        "new_lst = list(filter(lambda x : x%2 != 0 , lst))\n",
        "total = sum(list(map(lambda value : value**2 , new_lst)))\n",
        "\n",
        "print(total)\n"
      ],
      "metadata": {
        "id": "HWNJoU5oEKq0",
        "colab": {
          "base_uri": "https://localhost:8080/"
        },
        "outputId": "cc51c2ef-4443-4f39-fd47-4105765ae193"
      },
      "execution_count": null,
      "outputs": [
        {
          "output_type": "stream",
          "name": "stdout",
          "text": [
            "Input nums for sum of sq : 1,2,3,4\n",
            "10\n"
          ]
        }
      ]
    },
    {
      "cell_type": "code",
      "source": [
        "lst = [1,2,3,4]\n",
        "\n",
        "print(sum(lst))"
      ],
      "metadata": {
        "colab": {
          "base_uri": "https://localhost:8080/",
          "height": 304
        },
        "id": "fHnvCMzxIap7",
        "outputId": "d466887d-c6f6-49f4-9c8b-b27dabd0505c"
      },
      "execution_count": null,
      "outputs": [
        {
          "output_type": "error",
          "ename": "KeyboardInterrupt",
          "evalue": "",
          "traceback": [
            "\u001b[0;31m---------------------------------------------------------------------------\u001b[0m",
            "\u001b[0;31mKeyboardInterrupt\u001b[0m                         Traceback (most recent call last)",
            "\u001b[0;32m<ipython-input-43-a2bb1c14afdc>\u001b[0m in \u001b[0;36m<cell line: 3>\u001b[0;34m()\u001b[0m\n\u001b[1;32m      1\u001b[0m \u001b[0mlst\u001b[0m \u001b[0;34m=\u001b[0m \u001b[0;34m[\u001b[0m\u001b[0;36m1\u001b[0m\u001b[0;34m,\u001b[0m\u001b[0;36m2\u001b[0m\u001b[0;34m,\u001b[0m\u001b[0;36m3\u001b[0m\u001b[0;34m,\u001b[0m\u001b[0;36m4\u001b[0m\u001b[0;34m]\u001b[0m\u001b[0;34m\u001b[0m\u001b[0;34m\u001b[0m\u001b[0m\n\u001b[1;32m      2\u001b[0m \u001b[0;34m\u001b[0m\u001b[0m\n\u001b[0;32m----> 3\u001b[0;31m \u001b[0mprint\u001b[0m\u001b[0;34m(\u001b[0m\u001b[0msum\u001b[0m\u001b[0;34m(\u001b[0m\u001b[0mlst\u001b[0m\u001b[0;34m)\u001b[0m\u001b[0;34m)\u001b[0m\u001b[0;34m\u001b[0m\u001b[0;34m\u001b[0m\u001b[0m\n\u001b[0m",
            "\u001b[0;32m<ipython-input-36-f7a1229d3640>\u001b[0m in \u001b[0;36m<lambda>\u001b[0;34m(lst)\u001b[0m\n\u001b[1;32m      9\u001b[0m '''\n\u001b[1;32m     10\u001b[0m \u001b[0;34m\u001b[0m\u001b[0m\n\u001b[0;32m---> 11\u001b[0;31m \u001b[0msum\u001b[0m \u001b[0;34m=\u001b[0m \u001b[0;32mlambda\u001b[0m \u001b[0mlst\u001b[0m \u001b[0;34m:\u001b[0m \u001b[0msum\u001b[0m\u001b[0;34m(\u001b[0m\u001b[0;34m[\u001b[0m\u001b[0mvalue\u001b[0m\u001b[0;34m**\u001b[0m\u001b[0;36m2\u001b[0m \u001b[0;32mfor\u001b[0m \u001b[0mvalue\u001b[0m \u001b[0;32min\u001b[0m \u001b[0mlst\u001b[0m\u001b[0;34m]\u001b[0m\u001b[0;34m)\u001b[0m\u001b[0;34m\u001b[0m\u001b[0;34m\u001b[0m\u001b[0m\n\u001b[0m\u001b[1;32m     12\u001b[0m \u001b[0mprint\u001b[0m\u001b[0;34m(\u001b[0m\u001b[0msum\u001b[0m\u001b[0;34m(\u001b[0m\u001b[0mlst\u001b[0m\u001b[0;34m)\u001b[0m\u001b[0;34m)\u001b[0m\u001b[0;34m\u001b[0m\u001b[0;34m\u001b[0m\u001b[0m\n",
            "\u001b[0;32m<ipython-input-36-f7a1229d3640>\u001b[0m in \u001b[0;36m<lambda>\u001b[0;34m(lst)\u001b[0m\n\u001b[1;32m      9\u001b[0m '''\n\u001b[1;32m     10\u001b[0m \u001b[0;34m\u001b[0m\u001b[0m\n\u001b[0;32m---> 11\u001b[0;31m \u001b[0msum\u001b[0m \u001b[0;34m=\u001b[0m \u001b[0;32mlambda\u001b[0m \u001b[0mlst\u001b[0m \u001b[0;34m:\u001b[0m \u001b[0msum\u001b[0m\u001b[0;34m(\u001b[0m\u001b[0;34m[\u001b[0m\u001b[0mvalue\u001b[0m\u001b[0;34m**\u001b[0m\u001b[0;36m2\u001b[0m \u001b[0;32mfor\u001b[0m \u001b[0mvalue\u001b[0m \u001b[0;32min\u001b[0m \u001b[0mlst\u001b[0m\u001b[0;34m]\u001b[0m\u001b[0;34m)\u001b[0m\u001b[0;34m\u001b[0m\u001b[0;34m\u001b[0m\u001b[0m\n\u001b[0m\u001b[1;32m     12\u001b[0m \u001b[0mprint\u001b[0m\u001b[0;34m(\u001b[0m\u001b[0msum\u001b[0m\u001b[0;34m(\u001b[0m\u001b[0mlst\u001b[0m\u001b[0;34m)\u001b[0m\u001b[0;34m)\u001b[0m\u001b[0;34m\u001b[0m\u001b[0;34m\u001b[0m\u001b[0m\n",
            "\u001b[0;32m<ipython-input-36-f7a1229d3640>\u001b[0m in \u001b[0;36m<lambda>\u001b[0;34m(lst)\u001b[0m\n\u001b[1;32m      9\u001b[0m '''\n\u001b[1;32m     10\u001b[0m \u001b[0;34m\u001b[0m\u001b[0m\n\u001b[0;32m---> 11\u001b[0;31m \u001b[0msum\u001b[0m \u001b[0;34m=\u001b[0m \u001b[0;32mlambda\u001b[0m \u001b[0mlst\u001b[0m \u001b[0;34m:\u001b[0m \u001b[0msum\u001b[0m\u001b[0;34m(\u001b[0m\u001b[0;34m[\u001b[0m\u001b[0mvalue\u001b[0m\u001b[0;34m**\u001b[0m\u001b[0;36m2\u001b[0m \u001b[0;32mfor\u001b[0m \u001b[0mvalue\u001b[0m \u001b[0;32min\u001b[0m \u001b[0mlst\u001b[0m\u001b[0;34m]\u001b[0m\u001b[0;34m)\u001b[0m\u001b[0;34m\u001b[0m\u001b[0;34m\u001b[0m\u001b[0m\n\u001b[0m\u001b[1;32m     12\u001b[0m \u001b[0mprint\u001b[0m\u001b[0;34m(\u001b[0m\u001b[0msum\u001b[0m\u001b[0;34m(\u001b[0m\u001b[0mlst\u001b[0m\u001b[0;34m)\u001b[0m\u001b[0;34m)\u001b[0m\u001b[0;34m\u001b[0m\u001b[0;34m\u001b[0m\u001b[0m\n",
            "\u001b[0;32m<ipython-input-36-f7a1229d3640>\u001b[0m in \u001b[0;36m<lambda>\u001b[0;34m(lst)\u001b[0m\n\u001b[1;32m      9\u001b[0m '''\n\u001b[1;32m     10\u001b[0m \u001b[0;34m\u001b[0m\u001b[0m\n\u001b[0;32m---> 11\u001b[0;31m \u001b[0msum\u001b[0m \u001b[0;34m=\u001b[0m \u001b[0;32mlambda\u001b[0m \u001b[0mlst\u001b[0m \u001b[0;34m:\u001b[0m \u001b[0msum\u001b[0m\u001b[0;34m(\u001b[0m\u001b[0;34m[\u001b[0m\u001b[0mvalue\u001b[0m\u001b[0;34m**\u001b[0m\u001b[0;36m2\u001b[0m \u001b[0;32mfor\u001b[0m \u001b[0mvalue\u001b[0m \u001b[0;32min\u001b[0m \u001b[0mlst\u001b[0m\u001b[0;34m]\u001b[0m\u001b[0;34m)\u001b[0m\u001b[0;34m\u001b[0m\u001b[0;34m\u001b[0m\u001b[0m\n\u001b[0m\u001b[1;32m     12\u001b[0m \u001b[0mprint\u001b[0m\u001b[0;34m(\u001b[0m\u001b[0msum\u001b[0m\u001b[0;34m(\u001b[0m\u001b[0mlst\u001b[0m\u001b[0;34m)\u001b[0m\u001b[0;34m)\u001b[0m\u001b[0;34m\u001b[0m\u001b[0;34m\u001b[0m\u001b[0m\n",
            "\u001b[0;32m<ipython-input-36-f7a1229d3640>\u001b[0m in \u001b[0;36m<lambda>\u001b[0;34m(lst)\u001b[0m\n\u001b[1;32m      9\u001b[0m '''\n\u001b[1;32m     10\u001b[0m \u001b[0;34m\u001b[0m\u001b[0m\n\u001b[0;32m---> 11\u001b[0;31m \u001b[0msum\u001b[0m \u001b[0;34m=\u001b[0m \u001b[0;32mlambda\u001b[0m \u001b[0mlst\u001b[0m \u001b[0;34m:\u001b[0m \u001b[0msum\u001b[0m\u001b[0;34m(\u001b[0m\u001b[0;34m[\u001b[0m\u001b[0mvalue\u001b[0m\u001b[0;34m**\u001b[0m\u001b[0;36m2\u001b[0m \u001b[0;32mfor\u001b[0m \u001b[0mvalue\u001b[0m \u001b[0;32min\u001b[0m \u001b[0mlst\u001b[0m\u001b[0;34m]\u001b[0m\u001b[0;34m)\u001b[0m\u001b[0;34m\u001b[0m\u001b[0;34m\u001b[0m\u001b[0m\n\u001b[0m\u001b[1;32m     12\u001b[0m \u001b[0mprint\u001b[0m\u001b[0;34m(\u001b[0m\u001b[0msum\u001b[0m\u001b[0;34m(\u001b[0m\u001b[0mlst\u001b[0m\u001b[0;34m)\u001b[0m\u001b[0;34m)\u001b[0m\u001b[0;34m\u001b[0m\u001b[0;34m\u001b[0m\u001b[0m\n",
            "\u001b[0;32m<ipython-input-36-f7a1229d3640>\u001b[0m in \u001b[0;36m<lambda>\u001b[0;34m(lst)\u001b[0m\n\u001b[1;32m      9\u001b[0m '''\n\u001b[1;32m     10\u001b[0m \u001b[0;34m\u001b[0m\u001b[0m\n\u001b[0;32m---> 11\u001b[0;31m \u001b[0msum\u001b[0m \u001b[0;34m=\u001b[0m \u001b[0;32mlambda\u001b[0m \u001b[0mlst\u001b[0m \u001b[0;34m:\u001b[0m \u001b[0msum\u001b[0m\u001b[0;34m(\u001b[0m\u001b[0;34m[\u001b[0m\u001b[0mvalue\u001b[0m\u001b[0;34m**\u001b[0m\u001b[0;36m2\u001b[0m \u001b[0;32mfor\u001b[0m \u001b[0mvalue\u001b[0m \u001b[0;32min\u001b[0m \u001b[0mlst\u001b[0m\u001b[0;34m]\u001b[0m\u001b[0;34m)\u001b[0m\u001b[0;34m\u001b[0m\u001b[0;34m\u001b[0m\u001b[0m\n\u001b[0m\u001b[1;32m     12\u001b[0m \u001b[0mprint\u001b[0m\u001b[0;34m(\u001b[0m\u001b[0msum\u001b[0m\u001b[0;34m(\u001b[0m\u001b[0mlst\u001b[0m\u001b[0;34m)\u001b[0m\u001b[0;34m)\u001b[0m\u001b[0;34m\u001b[0m\u001b[0;34m\u001b[0m\u001b[0m\n",
            "\u001b[0;32m<ipython-input-36-f7a1229d3640>\u001b[0m in \u001b[0;36m<lambda>\u001b[0;34m(lst)\u001b[0m\n\u001b[1;32m      9\u001b[0m '''\n\u001b[1;32m     10\u001b[0m \u001b[0;34m\u001b[0m\u001b[0m\n\u001b[0;32m---> 11\u001b[0;31m \u001b[0msum\u001b[0m \u001b[0;34m=\u001b[0m \u001b[0;32mlambda\u001b[0m \u001b[0mlst\u001b[0m \u001b[0;34m:\u001b[0m \u001b[0msum\u001b[0m\u001b[0;34m(\u001b[0m\u001b[0;34m[\u001b[0m\u001b[0mvalue\u001b[0m\u001b[0;34m**\u001b[0m\u001b[0;36m2\u001b[0m \u001b[0;32mfor\u001b[0m \u001b[0mvalue\u001b[0m \u001b[0;32min\u001b[0m \u001b[0mlst\u001b[0m\u001b[0;34m]\u001b[0m\u001b[0;34m)\u001b[0m\u001b[0;34m\u001b[0m\u001b[0;34m\u001b[0m\u001b[0m\n\u001b[0m\u001b[1;32m     12\u001b[0m \u001b[0mprint\u001b[0m\u001b[0;34m(\u001b[0m\u001b[0msum\u001b[0m\u001b[0;34m(\u001b[0m\u001b[0mlst\u001b[0m\u001b[0;34m)\u001b[0m\u001b[0;34m)\u001b[0m\u001b[0;34m\u001b[0m\u001b[0;34m\u001b[0m\u001b[0m\n",
            "\u001b[0;32m<ipython-input-36-f7a1229d3640>\u001b[0m in \u001b[0;36m<lambda>\u001b[0;34m(lst)\u001b[0m\n\u001b[1;32m      9\u001b[0m '''\n\u001b[1;32m     10\u001b[0m \u001b[0;34m\u001b[0m\u001b[0m\n\u001b[0;32m---> 11\u001b[0;31m \u001b[0msum\u001b[0m \u001b[0;34m=\u001b[0m \u001b[0;32mlambda\u001b[0m \u001b[0mlst\u001b[0m \u001b[0;34m:\u001b[0m \u001b[0msum\u001b[0m\u001b[0;34m(\u001b[0m\u001b[0;34m[\u001b[0m\u001b[0mvalue\u001b[0m\u001b[0;34m**\u001b[0m\u001b[0;36m2\u001b[0m \u001b[0;32mfor\u001b[0m \u001b[0mvalue\u001b[0m \u001b[0;32min\u001b[0m \u001b[0mlst\u001b[0m\u001b[0;34m]\u001b[0m\u001b[0;34m)\u001b[0m\u001b[0;34m\u001b[0m\u001b[0;34m\u001b[0m\u001b[0m\n\u001b[0m\u001b[1;32m     12\u001b[0m \u001b[0mprint\u001b[0m\u001b[0;34m(\u001b[0m\u001b[0msum\u001b[0m\u001b[0;34m(\u001b[0m\u001b[0mlst\u001b[0m\u001b[0;34m)\u001b[0m\u001b[0;34m)\u001b[0m\u001b[0;34m\u001b[0m\u001b[0;34m\u001b[0m\u001b[0m\n",
            "\u001b[0;32m<ipython-input-36-f7a1229d3640>\u001b[0m in \u001b[0;36m<lambda>\u001b[0;34m(lst)\u001b[0m\n\u001b[1;32m      9\u001b[0m '''\n\u001b[1;32m     10\u001b[0m \u001b[0;34m\u001b[0m\u001b[0m\n\u001b[0;32m---> 11\u001b[0;31m \u001b[0msum\u001b[0m \u001b[0;34m=\u001b[0m \u001b[0;32mlambda\u001b[0m \u001b[0mlst\u001b[0m \u001b[0;34m:\u001b[0m \u001b[0msum\u001b[0m\u001b[0;34m(\u001b[0m\u001b[0;34m[\u001b[0m\u001b[0mvalue\u001b[0m\u001b[0;34m**\u001b[0m\u001b[0;36m2\u001b[0m \u001b[0;32mfor\u001b[0m \u001b[0mvalue\u001b[0m \u001b[0;32min\u001b[0m \u001b[0mlst\u001b[0m\u001b[0;34m]\u001b[0m\u001b[0;34m)\u001b[0m\u001b[0;34m\u001b[0m\u001b[0;34m\u001b[0m\u001b[0m\n\u001b[0m\u001b[1;32m     12\u001b[0m \u001b[0mprint\u001b[0m\u001b[0;34m(\u001b[0m\u001b[0msum\u001b[0m\u001b[0;34m(\u001b[0m\u001b[0mlst\u001b[0m\u001b[0;34m)\u001b[0m\u001b[0;34m)\u001b[0m\u001b[0;34m\u001b[0m\u001b[0;34m\u001b[0m\u001b[0m\n",
            "\u001b[0;32m<ipython-input-36-f7a1229d3640>\u001b[0m in \u001b[0;36m<lambda>\u001b[0;34m(lst)\u001b[0m\n\u001b[1;32m      9\u001b[0m '''\n\u001b[1;32m     10\u001b[0m \u001b[0;34m\u001b[0m\u001b[0m\n\u001b[0;32m---> 11\u001b[0;31m \u001b[0msum\u001b[0m \u001b[0;34m=\u001b[0m \u001b[0;32mlambda\u001b[0m \u001b[0mlst\u001b[0m \u001b[0;34m:\u001b[0m \u001b[0msum\u001b[0m\u001b[0;34m(\u001b[0m\u001b[0;34m[\u001b[0m\u001b[0mvalue\u001b[0m\u001b[0;34m**\u001b[0m\u001b[0;36m2\u001b[0m \u001b[0;32mfor\u001b[0m \u001b[0mvalue\u001b[0m \u001b[0;32min\u001b[0m \u001b[0mlst\u001b[0m\u001b[0;34m]\u001b[0m\u001b[0;34m)\u001b[0m\u001b[0;34m\u001b[0m\u001b[0;34m\u001b[0m\u001b[0m\n\u001b[0m\u001b[1;32m     12\u001b[0m \u001b[0mprint\u001b[0m\u001b[0;34m(\u001b[0m\u001b[0msum\u001b[0m\u001b[0;34m(\u001b[0m\u001b[0mlst\u001b[0m\u001b[0;34m)\u001b[0m\u001b[0;34m)\u001b[0m\u001b[0;34m\u001b[0m\u001b[0;34m\u001b[0m\u001b[0m\n",
            "\u001b[0;32m<ipython-input-36-f7a1229d3640>\u001b[0m in \u001b[0;36m<lambda>\u001b[0;34m(lst)\u001b[0m\n\u001b[1;32m      9\u001b[0m '''\n\u001b[1;32m     10\u001b[0m \u001b[0;34m\u001b[0m\u001b[0m\n\u001b[0;32m---> 11\u001b[0;31m \u001b[0msum\u001b[0m \u001b[0;34m=\u001b[0m \u001b[0;32mlambda\u001b[0m \u001b[0mlst\u001b[0m \u001b[0;34m:\u001b[0m \u001b[0msum\u001b[0m\u001b[0;34m(\u001b[0m\u001b[0;34m[\u001b[0m\u001b[0mvalue\u001b[0m\u001b[0;34m**\u001b[0m\u001b[0;36m2\u001b[0m \u001b[0;32mfor\u001b[0m \u001b[0mvalue\u001b[0m \u001b[0;32min\u001b[0m \u001b[0mlst\u001b[0m\u001b[0;34m]\u001b[0m\u001b[0;34m)\u001b[0m\u001b[0;34m\u001b[0m\u001b[0;34m\u001b[0m\u001b[0m\n\u001b[0m\u001b[1;32m     12\u001b[0m \u001b[0mprint\u001b[0m\u001b[0;34m(\u001b[0m\u001b[0msum\u001b[0m\u001b[0;34m(\u001b[0m\u001b[0mlst\u001b[0m\u001b[0;34m)\u001b[0m\u001b[0;34m)\u001b[0m\u001b[0;34m\u001b[0m\u001b[0;34m\u001b[0m\u001b[0m\n",
            "\u001b[0;32m<ipython-input-36-f7a1229d3640>\u001b[0m in \u001b[0;36m<lambda>\u001b[0;34m(lst)\u001b[0m\n\u001b[1;32m      9\u001b[0m '''\n\u001b[1;32m     10\u001b[0m \u001b[0;34m\u001b[0m\u001b[0m\n\u001b[0;32m---> 11\u001b[0;31m \u001b[0msum\u001b[0m \u001b[0;34m=\u001b[0m \u001b[0;32mlambda\u001b[0m \u001b[0mlst\u001b[0m \u001b[0;34m:\u001b[0m \u001b[0msum\u001b[0m\u001b[0;34m(\u001b[0m\u001b[0;34m[\u001b[0m\u001b[0mvalue\u001b[0m\u001b[0;34m**\u001b[0m\u001b[0;36m2\u001b[0m \u001b[0;32mfor\u001b[0m \u001b[0mvalue\u001b[0m \u001b[0;32min\u001b[0m \u001b[0mlst\u001b[0m\u001b[0;34m]\u001b[0m\u001b[0;34m)\u001b[0m\u001b[0;34m\u001b[0m\u001b[0;34m\u001b[0m\u001b[0m\n\u001b[0m\u001b[1;32m     12\u001b[0m \u001b[0mprint\u001b[0m\u001b[0;34m(\u001b[0m\u001b[0msum\u001b[0m\u001b[0;34m(\u001b[0m\u001b[0mlst\u001b[0m\u001b[0;34m)\u001b[0m\u001b[0;34m)\u001b[0m\u001b[0;34m\u001b[0m\u001b[0;34m\u001b[0m\u001b[0m\n",
            "\u001b[0;32m<ipython-input-36-f7a1229d3640>\u001b[0m in \u001b[0;36m<lambda>\u001b[0;34m(lst)\u001b[0m\n\u001b[1;32m      9\u001b[0m '''\n\u001b[1;32m     10\u001b[0m \u001b[0;34m\u001b[0m\u001b[0m\n\u001b[0;32m---> 11\u001b[0;31m \u001b[0msum\u001b[0m \u001b[0;34m=\u001b[0m \u001b[0;32mlambda\u001b[0m \u001b[0mlst\u001b[0m \u001b[0;34m:\u001b[0m \u001b[0msum\u001b[0m\u001b[0;34m(\u001b[0m\u001b[0;34m[\u001b[0m\u001b[0mvalue\u001b[0m\u001b[0;34m**\u001b[0m\u001b[0;36m2\u001b[0m \u001b[0;32mfor\u001b[0m \u001b[0mvalue\u001b[0m \u001b[0;32min\u001b[0m \u001b[0mlst\u001b[0m\u001b[0;34m]\u001b[0m\u001b[0;34m)\u001b[0m\u001b[0;34m\u001b[0m\u001b[0;34m\u001b[0m\u001b[0m\n\u001b[0m\u001b[1;32m     12\u001b[0m \u001b[0mprint\u001b[0m\u001b[0;34m(\u001b[0m\u001b[0msum\u001b[0m\u001b[0;34m(\u001b[0m\u001b[0mlst\u001b[0m\u001b[0;34m)\u001b[0m\u001b[0;34m)\u001b[0m\u001b[0;34m\u001b[0m\u001b[0;34m\u001b[0m\u001b[0m\n",
            "\u001b[0;32m<ipython-input-36-f7a1229d3640>\u001b[0m in \u001b[0;36m<lambda>\u001b[0;34m(lst)\u001b[0m\n\u001b[1;32m      9\u001b[0m '''\n\u001b[1;32m     10\u001b[0m \u001b[0;34m\u001b[0m\u001b[0m\n\u001b[0;32m---> 11\u001b[0;31m \u001b[0msum\u001b[0m \u001b[0;34m=\u001b[0m \u001b[0;32mlambda\u001b[0m \u001b[0mlst\u001b[0m \u001b[0;34m:\u001b[0m \u001b[0msum\u001b[0m\u001b[0;34m(\u001b[0m\u001b[0;34m[\u001b[0m\u001b[0mvalue\u001b[0m\u001b[0;34m**\u001b[0m\u001b[0;36m2\u001b[0m \u001b[0;32mfor\u001b[0m \u001b[0mvalue\u001b[0m \u001b[0;32min\u001b[0m \u001b[0mlst\u001b[0m\u001b[0;34m]\u001b[0m\u001b[0;34m)\u001b[0m\u001b[0;34m\u001b[0m\u001b[0;34m\u001b[0m\u001b[0m\n\u001b[0m\u001b[1;32m     12\u001b[0m \u001b[0mprint\u001b[0m\u001b[0;34m(\u001b[0m\u001b[0msum\u001b[0m\u001b[0;34m(\u001b[0m\u001b[0mlst\u001b[0m\u001b[0;34m)\u001b[0m\u001b[0;34m)\u001b[0m\u001b[0;34m\u001b[0m\u001b[0;34m\u001b[0m\u001b[0m\n",
            "\u001b[0;32m<ipython-input-36-f7a1229d3640>\u001b[0m in \u001b[0;36m<lambda>\u001b[0;34m(lst)\u001b[0m\n\u001b[1;32m      9\u001b[0m '''\n\u001b[1;32m     10\u001b[0m \u001b[0;34m\u001b[0m\u001b[0m\n\u001b[0;32m---> 11\u001b[0;31m \u001b[0msum\u001b[0m \u001b[0;34m=\u001b[0m \u001b[0;32mlambda\u001b[0m \u001b[0mlst\u001b[0m \u001b[0;34m:\u001b[0m \u001b[0msum\u001b[0m\u001b[0;34m(\u001b[0m\u001b[0;34m[\u001b[0m\u001b[0mvalue\u001b[0m\u001b[0;34m**\u001b[0m\u001b[0;36m2\u001b[0m \u001b[0;32mfor\u001b[0m \u001b[0mvalue\u001b[0m \u001b[0;32min\u001b[0m \u001b[0mlst\u001b[0m\u001b[0;34m]\u001b[0m\u001b[0;34m)\u001b[0m\u001b[0;34m\u001b[0m\u001b[0;34m\u001b[0m\u001b[0m\n\u001b[0m\u001b[1;32m     12\u001b[0m \u001b[0mprint\u001b[0m\u001b[0;34m(\u001b[0m\u001b[0msum\u001b[0m\u001b[0;34m(\u001b[0m\u001b[0mlst\u001b[0m\u001b[0;34m)\u001b[0m\u001b[0;34m)\u001b[0m\u001b[0;34m\u001b[0m\u001b[0;34m\u001b[0m\u001b[0m\n",
            "\u001b[0;32m<ipython-input-36-f7a1229d3640>\u001b[0m in \u001b[0;36m<lambda>\u001b[0;34m(lst)\u001b[0m\n\u001b[1;32m      9\u001b[0m '''\n\u001b[1;32m     10\u001b[0m \u001b[0;34m\u001b[0m\u001b[0m\n\u001b[0;32m---> 11\u001b[0;31m \u001b[0msum\u001b[0m \u001b[0;34m=\u001b[0m \u001b[0;32mlambda\u001b[0m \u001b[0mlst\u001b[0m \u001b[0;34m:\u001b[0m \u001b[0msum\u001b[0m\u001b[0;34m(\u001b[0m\u001b[0;34m[\u001b[0m\u001b[0mvalue\u001b[0m\u001b[0;34m**\u001b[0m\u001b[0;36m2\u001b[0m \u001b[0;32mfor\u001b[0m \u001b[0mvalue\u001b[0m \u001b[0;32min\u001b[0m \u001b[0mlst\u001b[0m\u001b[0;34m]\u001b[0m\u001b[0;34m)\u001b[0m\u001b[0;34m\u001b[0m\u001b[0;34m\u001b[0m\u001b[0m\n\u001b[0m\u001b[1;32m     12\u001b[0m \u001b[0mprint\u001b[0m\u001b[0;34m(\u001b[0m\u001b[0msum\u001b[0m\u001b[0;34m(\u001b[0m\u001b[0mlst\u001b[0m\u001b[0;34m)\u001b[0m\u001b[0;34m)\u001b[0m\u001b[0;34m\u001b[0m\u001b[0;34m\u001b[0m\u001b[0m\n",
            "\u001b[0;32m<ipython-input-36-f7a1229d3640>\u001b[0m in \u001b[0;36m<lambda>\u001b[0;34m(lst)\u001b[0m\n\u001b[1;32m      9\u001b[0m '''\n\u001b[1;32m     10\u001b[0m \u001b[0;34m\u001b[0m\u001b[0m\n\u001b[0;32m---> 11\u001b[0;31m \u001b[0msum\u001b[0m \u001b[0;34m=\u001b[0m \u001b[0;32mlambda\u001b[0m \u001b[0mlst\u001b[0m \u001b[0;34m:\u001b[0m \u001b[0msum\u001b[0m\u001b[0;34m(\u001b[0m\u001b[0;34m[\u001b[0m\u001b[0mvalue\u001b[0m\u001b[0;34m**\u001b[0m\u001b[0;36m2\u001b[0m \u001b[0;32mfor\u001b[0m \u001b[0mvalue\u001b[0m \u001b[0;32min\u001b[0m \u001b[0mlst\u001b[0m\u001b[0;34m]\u001b[0m\u001b[0;34m)\u001b[0m\u001b[0;34m\u001b[0m\u001b[0;34m\u001b[0m\u001b[0m\n\u001b[0m\u001b[1;32m     12\u001b[0m \u001b[0mprint\u001b[0m\u001b[0;34m(\u001b[0m\u001b[0msum\u001b[0m\u001b[0;34m(\u001b[0m\u001b[0mlst\u001b[0m\u001b[0;34m)\u001b[0m\u001b[0;34m)\u001b[0m\u001b[0;34m\u001b[0m\u001b[0;34m\u001b[0m\u001b[0m\n",
            "\u001b[0;32m<ipython-input-36-f7a1229d3640>\u001b[0m in \u001b[0;36m<lambda>\u001b[0;34m(lst)\u001b[0m\n\u001b[1;32m      9\u001b[0m '''\n\u001b[1;32m     10\u001b[0m \u001b[0;34m\u001b[0m\u001b[0m\n\u001b[0;32m---> 11\u001b[0;31m \u001b[0msum\u001b[0m \u001b[0;34m=\u001b[0m \u001b[0;32mlambda\u001b[0m \u001b[0mlst\u001b[0m \u001b[0;34m:\u001b[0m \u001b[0msum\u001b[0m\u001b[0;34m(\u001b[0m\u001b[0;34m[\u001b[0m\u001b[0mvalue\u001b[0m\u001b[0;34m**\u001b[0m\u001b[0;36m2\u001b[0m \u001b[0;32mfor\u001b[0m \u001b[0mvalue\u001b[0m \u001b[0;32min\u001b[0m \u001b[0mlst\u001b[0m\u001b[0;34m]\u001b[0m\u001b[0;34m)\u001b[0m\u001b[0;34m\u001b[0m\u001b[0;34m\u001b[0m\u001b[0m\n\u001b[0m\u001b[1;32m     12\u001b[0m \u001b[0mprint\u001b[0m\u001b[0;34m(\u001b[0m\u001b[0msum\u001b[0m\u001b[0;34m(\u001b[0m\u001b[0mlst\u001b[0m\u001b[0;34m)\u001b[0m\u001b[0;34m)\u001b[0m\u001b[0;34m\u001b[0m\u001b[0;34m\u001b[0m\u001b[0m\n",
            "\u001b[0;32m<ipython-input-36-f7a1229d3640>\u001b[0m in \u001b[0;36m<lambda>\u001b[0;34m(lst)\u001b[0m\n\u001b[1;32m      9\u001b[0m '''\n\u001b[1;32m     10\u001b[0m \u001b[0;34m\u001b[0m\u001b[0m\n\u001b[0;32m---> 11\u001b[0;31m \u001b[0msum\u001b[0m \u001b[0;34m=\u001b[0m \u001b[0;32mlambda\u001b[0m \u001b[0mlst\u001b[0m \u001b[0;34m:\u001b[0m \u001b[0msum\u001b[0m\u001b[0;34m(\u001b[0m\u001b[0;34m[\u001b[0m\u001b[0mvalue\u001b[0m\u001b[0;34m**\u001b[0m\u001b[0;36m2\u001b[0m \u001b[0;32mfor\u001b[0m \u001b[0mvalue\u001b[0m \u001b[0;32min\u001b[0m \u001b[0mlst\u001b[0m\u001b[0;34m]\u001b[0m\u001b[0;34m)\u001b[0m\u001b[0;34m\u001b[0m\u001b[0;34m\u001b[0m\u001b[0m\n\u001b[0m\u001b[1;32m     12\u001b[0m \u001b[0mprint\u001b[0m\u001b[0;34m(\u001b[0m\u001b[0msum\u001b[0m\u001b[0;34m(\u001b[0m\u001b[0mlst\u001b[0m\u001b[0;34m)\u001b[0m\u001b[0;34m)\u001b[0m\u001b[0;34m\u001b[0m\u001b[0;34m\u001b[0m\u001b[0m\n",
            "\u001b[0;32m<ipython-input-36-f7a1229d3640>\u001b[0m in \u001b[0;36m<lambda>\u001b[0;34m(lst)\u001b[0m\n\u001b[1;32m      9\u001b[0m '''\n\u001b[1;32m     10\u001b[0m \u001b[0;34m\u001b[0m\u001b[0m\n\u001b[0;32m---> 11\u001b[0;31m \u001b[0msum\u001b[0m \u001b[0;34m=\u001b[0m \u001b[0;32mlambda\u001b[0m \u001b[0mlst\u001b[0m \u001b[0;34m:\u001b[0m \u001b[0msum\u001b[0m\u001b[0;34m(\u001b[0m\u001b[0;34m[\u001b[0m\u001b[0mvalue\u001b[0m\u001b[0;34m**\u001b[0m\u001b[0;36m2\u001b[0m \u001b[0;32mfor\u001b[0m \u001b[0mvalue\u001b[0m \u001b[0;32min\u001b[0m \u001b[0mlst\u001b[0m\u001b[0;34m]\u001b[0m\u001b[0;34m)\u001b[0m\u001b[0;34m\u001b[0m\u001b[0;34m\u001b[0m\u001b[0m\n\u001b[0m\u001b[1;32m     12\u001b[0m \u001b[0mprint\u001b[0m\u001b[0;34m(\u001b[0m\u001b[0msum\u001b[0m\u001b[0;34m(\u001b[0m\u001b[0mlst\u001b[0m\u001b[0;34m)\u001b[0m\u001b[0;34m)\u001b[0m\u001b[0;34m\u001b[0m\u001b[0;34m\u001b[0m\u001b[0m\n",
            "\u001b[0;32m<ipython-input-36-f7a1229d3640>\u001b[0m in \u001b[0;36m<lambda>\u001b[0;34m(lst)\u001b[0m\n\u001b[1;32m      9\u001b[0m '''\n\u001b[1;32m     10\u001b[0m \u001b[0;34m\u001b[0m\u001b[0m\n\u001b[0;32m---> 11\u001b[0;31m \u001b[0msum\u001b[0m \u001b[0;34m=\u001b[0m \u001b[0;32mlambda\u001b[0m \u001b[0mlst\u001b[0m \u001b[0;34m:\u001b[0m \u001b[0msum\u001b[0m\u001b[0;34m(\u001b[0m\u001b[0;34m[\u001b[0m\u001b[0mvalue\u001b[0m\u001b[0;34m**\u001b[0m\u001b[0;36m2\u001b[0m \u001b[0;32mfor\u001b[0m \u001b[0mvalue\u001b[0m \u001b[0;32min\u001b[0m \u001b[0mlst\u001b[0m\u001b[0;34m]\u001b[0m\u001b[0;34m)\u001b[0m\u001b[0;34m\u001b[0m\u001b[0;34m\u001b[0m\u001b[0m\n\u001b[0m\u001b[1;32m     12\u001b[0m \u001b[0mprint\u001b[0m\u001b[0;34m(\u001b[0m\u001b[0msum\u001b[0m\u001b[0;34m(\u001b[0m\u001b[0mlst\u001b[0m\u001b[0;34m)\u001b[0m\u001b[0;34m)\u001b[0m\u001b[0;34m\u001b[0m\u001b[0;34m\u001b[0m\u001b[0m\n",
            "\u001b[0;32m<ipython-input-36-f7a1229d3640>\u001b[0m in \u001b[0;36m<lambda>\u001b[0;34m(lst)\u001b[0m\n\u001b[1;32m      9\u001b[0m '''\n\u001b[1;32m     10\u001b[0m \u001b[0;34m\u001b[0m\u001b[0m\n\u001b[0;32m---> 11\u001b[0;31m \u001b[0msum\u001b[0m \u001b[0;34m=\u001b[0m \u001b[0;32mlambda\u001b[0m \u001b[0mlst\u001b[0m \u001b[0;34m:\u001b[0m \u001b[0msum\u001b[0m\u001b[0;34m(\u001b[0m\u001b[0;34m[\u001b[0m\u001b[0mvalue\u001b[0m\u001b[0;34m**\u001b[0m\u001b[0;36m2\u001b[0m \u001b[0;32mfor\u001b[0m \u001b[0mvalue\u001b[0m \u001b[0;32min\u001b[0m \u001b[0mlst\u001b[0m\u001b[0;34m]\u001b[0m\u001b[0;34m)\u001b[0m\u001b[0;34m\u001b[0m\u001b[0;34m\u001b[0m\u001b[0m\n\u001b[0m\u001b[1;32m     12\u001b[0m \u001b[0mprint\u001b[0m\u001b[0;34m(\u001b[0m\u001b[0msum\u001b[0m\u001b[0;34m(\u001b[0m\u001b[0mlst\u001b[0m\u001b[0;34m)\u001b[0m\u001b[0;34m)\u001b[0m\u001b[0;34m\u001b[0m\u001b[0;34m\u001b[0m\u001b[0m\n",
            "\u001b[0;32m<ipython-input-36-f7a1229d3640>\u001b[0m in \u001b[0;36m<lambda>\u001b[0;34m(lst)\u001b[0m\n\u001b[1;32m      9\u001b[0m '''\n\u001b[1;32m     10\u001b[0m \u001b[0;34m\u001b[0m\u001b[0m\n\u001b[0;32m---> 11\u001b[0;31m \u001b[0msum\u001b[0m \u001b[0;34m=\u001b[0m \u001b[0;32mlambda\u001b[0m \u001b[0mlst\u001b[0m \u001b[0;34m:\u001b[0m \u001b[0msum\u001b[0m\u001b[0;34m(\u001b[0m\u001b[0;34m[\u001b[0m\u001b[0mvalue\u001b[0m\u001b[0;34m**\u001b[0m\u001b[0;36m2\u001b[0m \u001b[0;32mfor\u001b[0m \u001b[0mvalue\u001b[0m \u001b[0;32min\u001b[0m \u001b[0mlst\u001b[0m\u001b[0;34m]\u001b[0m\u001b[0;34m)\u001b[0m\u001b[0;34m\u001b[0m\u001b[0;34m\u001b[0m\u001b[0m\n\u001b[0m\u001b[1;32m     12\u001b[0m \u001b[0mprint\u001b[0m\u001b[0;34m(\u001b[0m\u001b[0msum\u001b[0m\u001b[0;34m(\u001b[0m\u001b[0mlst\u001b[0m\u001b[0;34m)\u001b[0m\u001b[0;34m)\u001b[0m\u001b[0;34m\u001b[0m\u001b[0;34m\u001b[0m\u001b[0m\n",
            "\u001b[0;32m<ipython-input-36-f7a1229d3640>\u001b[0m in \u001b[0;36m<lambda>\u001b[0;34m(lst)\u001b[0m\n\u001b[1;32m      9\u001b[0m '''\n\u001b[1;32m     10\u001b[0m \u001b[0;34m\u001b[0m\u001b[0m\n\u001b[0;32m---> 11\u001b[0;31m \u001b[0msum\u001b[0m \u001b[0;34m=\u001b[0m \u001b[0;32mlambda\u001b[0m \u001b[0mlst\u001b[0m \u001b[0;34m:\u001b[0m \u001b[0msum\u001b[0m\u001b[0;34m(\u001b[0m\u001b[0;34m[\u001b[0m\u001b[0mvalue\u001b[0m\u001b[0;34m**\u001b[0m\u001b[0;36m2\u001b[0m \u001b[0;32mfor\u001b[0m \u001b[0mvalue\u001b[0m \u001b[0;32min\u001b[0m \u001b[0mlst\u001b[0m\u001b[0;34m]\u001b[0m\u001b[0;34m)\u001b[0m\u001b[0;34m\u001b[0m\u001b[0;34m\u001b[0m\u001b[0m\n\u001b[0m\u001b[1;32m     12\u001b[0m \u001b[0mprint\u001b[0m\u001b[0;34m(\u001b[0m\u001b[0msum\u001b[0m\u001b[0;34m(\u001b[0m\u001b[0mlst\u001b[0m\u001b[0;34m)\u001b[0m\u001b[0;34m)\u001b[0m\u001b[0;34m\u001b[0m\u001b[0;34m\u001b[0m\u001b[0m\n",
            "\u001b[0;32m<ipython-input-36-f7a1229d3640>\u001b[0m in \u001b[0;36m<listcomp>\u001b[0;34m(.0)\u001b[0m\n\u001b[1;32m      9\u001b[0m '''\n\u001b[1;32m     10\u001b[0m \u001b[0;34m\u001b[0m\u001b[0m\n\u001b[0;32m---> 11\u001b[0;31m \u001b[0msum\u001b[0m \u001b[0;34m=\u001b[0m \u001b[0;32mlambda\u001b[0m \u001b[0mlst\u001b[0m \u001b[0;34m:\u001b[0m \u001b[0msum\u001b[0m\u001b[0;34m(\u001b[0m\u001b[0;34m[\u001b[0m\u001b[0mvalue\u001b[0m\u001b[0;34m**\u001b[0m\u001b[0;36m2\u001b[0m \u001b[0;32mfor\u001b[0m \u001b[0mvalue\u001b[0m \u001b[0;32min\u001b[0m \u001b[0mlst\u001b[0m\u001b[0;34m]\u001b[0m\u001b[0;34m)\u001b[0m\u001b[0;34m\u001b[0m\u001b[0;34m\u001b[0m\u001b[0m\n\u001b[0m\u001b[1;32m     12\u001b[0m \u001b[0mprint\u001b[0m\u001b[0;34m(\u001b[0m\u001b[0msum\u001b[0m\u001b[0;34m(\u001b[0m\u001b[0mlst\u001b[0m\u001b[0;34m)\u001b[0m\u001b[0;34m)\u001b[0m\u001b[0;34m\u001b[0m\u001b[0;34m\u001b[0m\u001b[0m\n",
            "\u001b[0;31mKeyboardInterrupt\u001b[0m: "
          ]
        }
      ]
    },
    {
      "cell_type": "code",
      "source": [
        "'''lst = [1 , 2 , 3 , 4]\n",
        "sum = 0\n",
        "for x in lst:\n",
        "  sum += x**2\n",
        "  print(sum)'''"
      ],
      "metadata": {
        "id": "BlAB7TGvLKVr",
        "colab": {
          "base_uri": "https://localhost:8080/"
        },
        "outputId": "190c28a2-946e-4094-db74-daeed1bda6e2"
      },
      "execution_count": null,
      "outputs": [
        {
          "output_type": "stream",
          "name": "stdout",
          "text": [
            "1\n",
            "5\n",
            "14\n",
            "30\n"
          ]
        }
      ]
    },
    {
      "cell_type": "markdown",
      "source": [
        "##22. Pizza and burger toppings = Filter out toppings of len >= 5"
      ],
      "metadata": {
        "id": "EEOc1dyLDJ0e"
      }
    },
    {
      "cell_type": "code",
      "source": [
        "## pizza and burger topping\n",
        "## filter out toppings of len >=5   =  completed\n",
        "\n",
        "pizza_toppings = ['mushroom', 'olive', 'tomato', 'pepperoni', 'onion', 'garlic']\n",
        "burger_toppings = ['lettuce', 'cheese', 'mayonnaise', 'bacon', 'pickle', 'avocado']\n",
        "\n",
        "new_pizza_toppings = list(filter(lambda topp : len(topp)>5 , pizza_toppings))\n",
        "new_burger_toppings = list(filter(lambda topp : len(topp)>5 , burger_toppings))\n",
        "\n",
        "total_toppings = new_pizza_toppings + new_burger_toppings\n",
        "\n",
        "print(total_toppings)"
      ],
      "metadata": {
        "colab": {
          "base_uri": "https://localhost:8080/"
        },
        "id": "NgXpdFPdMYKM",
        "outputId": "d634b102-6448-4273-f348-82c63c22b941"
      },
      "execution_count": null,
      "outputs": [
        {
          "output_type": "stream",
          "name": "stdout",
          "text": [
            "['mushroom', 'tomato', 'pepperoni', 'garlic', 'lettuce', 'cheese', 'mayonnaise', 'pickle', 'avocado']\n"
          ]
        }
      ]
    },
    {
      "cell_type": "markdown",
      "source": [
        "##23. sales data\n",
        "## create sales data dict\n",
        "## include only whose sales > 1000"
      ],
      "metadata": {
        "id": "WqgW0G7CDjmI"
      }
    },
    {
      "cell_type": "code",
      "source": [
        "## sales data\n",
        "## create sales data dict\n",
        "## include only whose sales > 1000  = completed\n",
        "\n",
        "countries = [\"USA\", \"Canada\", \"Mexico\", \"Brazil\", \"UK\", \"France\", \"Germany\", \"China\", \"India\"]\n",
        "sales = [2500, 300, 1200, 800, 500, 2000, 4000, 1000, 1500]\n",
        "\n",
        "sales_data_dict = { k : v for (k , v) in zip(countries , sales) if v > 1000}\n",
        "\n",
        "print(sales_data_dict)\n",
        "\n",
        "\n"
      ],
      "metadata": {
        "colab": {
          "base_uri": "https://localhost:8080/"
        },
        "id": "K0MVaKX8Pqyr",
        "outputId": "56696f9a-5d92-458c-b091-7eb11834f192"
      },
      "execution_count": null,
      "outputs": [
        {
          "output_type": "stream",
          "name": "stdout",
          "text": [
            "{'USA': 2500, 'Mexico': 1200, 'France': 2000, 'Germany': 4000, 'India': 1500}\n"
          ]
        }
      ]
    },
    {
      "cell_type": "markdown",
      "source": [
        "##24. Stock Filtering"
      ],
      "metadata": {
        "id": "W_5Ucjt5Dvxl"
      }
    },
    {
      "cell_type": "code",
      "source": [
        "## stock lst of dict\n",
        "## remove all key value except name and price from each dict in lst   =  completed by both for loop and lst/dict comprehension\n",
        "## remove only of those which have price > 100 and %change = +ve\n",
        "\n",
        "\n",
        "stocks = [\n",
        "    {'name': 'Apple Inc.', 'ticker': 'AAPL', 'price': 120.0, 'change': 0.05},\n",
        "    {'name': 'Microsoft Corporation', 'ticker': 'MSFT', 'price': 95.0, 'change': -0.02},\n",
        "    {'name': 'Amazon.com, Inc.', 'ticker': 'AMZN', 'price': 250.0, 'change': 0.1},\n",
        "    {'name': 'Alphabet Inc.', 'ticker': 'GOOGL', 'price': 110.0, 'change': 0.02},\n",
        "    {'name': 'Facebook, Inc.', 'ticker': 'FB', 'price': 80.0, 'change': 0.03}\n",
        "]\n",
        "'''\n",
        "for value in stocks:\n",
        "    if value['price'] > 100 and value['change'] > 0:\n",
        "      del value['ticker']\n",
        "      del value['change']\n",
        "print(stocks)\n",
        "'''\n",
        "\n",
        "## new_stocks = [{k:v for k,v in value.items() if k not in ['tinker' , 'change']} for value in stocks if value['price'] > 100 and value['change'] > 0]\n",
        "\n",
        "new_stocks= [{'name':stock['name'], 'price':stock['price']} if stock['price'] >100 and stock['change'] >0 else stock for stock in stocks ]\n",
        "\n",
        "print(new_stocks)"
      ],
      "metadata": {
        "colab": {
          "base_uri": "https://localhost:8080/"
        },
        "id": "TldDTHVjSkoB",
        "outputId": "9e8a08a5-c18a-4a9e-d0a6-9e4effc2e86d"
      },
      "execution_count": null,
      "outputs": [
        {
          "output_type": "stream",
          "name": "stdout",
          "text": [
            "[{'name': 'Apple Inc.', 'price': 120.0}, {'name': 'Microsoft Corporation', 'ticker': 'MSFT', 'price': 95.0, 'change': -0.02}, {'name': 'Amazon.com, Inc.', 'price': 250.0}, {'name': 'Alphabet Inc.', 'price': 110.0}, {'name': 'Facebook, Inc.', 'ticker': 'FB', 'price': 80.0, 'change': 0.03}]\n"
          ]
        }
      ]
    },
    {
      "cell_type": "markdown",
      "source": [
        "##25. Duplicate songs using set comprehension"
      ],
      "metadata": {
        "id": "-j628BBKD854"
      }
    },
    {
      "cell_type": "code",
      "source": [
        "## Song lst\n",
        "## use set comprehension\n",
        "## create new set\n",
        "## delete songs that starts with 'S' and ends with 'n'  = completed\n",
        "\n",
        "songs = ['Bohemian Rhapsody', 'Stairway to Heaven', 'Bohemian Rhapsody', 'Hotel California', 'November Rain', 'Stairway to Heaven', 'Sweet Child O\\' Mine']\n",
        "\n",
        "new_set2 = {value for value in songs if 'S' not in value[0] or 'n' not in value[-1]  }\n",
        "\n",
        "print(new_set2)"
      ],
      "metadata": {
        "id": "dQKwfvJbaiYT",
        "colab": {
          "base_uri": "https://localhost:8080/"
        },
        "outputId": "ca1cb539-e28f-492e-a558-cbf9cff81e9d"
      },
      "execution_count": null,
      "outputs": [
        {
          "output_type": "stream",
          "name": "stdout",
          "text": [
            "{'November Rain', \"Sweet Child O' Mine\", 'Hotel California', 'Bohemian Rhapsody'}\n"
          ]
        }
      ]
    },
    {
      "cell_type": "markdown",
      "source": [
        "##26. Paintbrush class"
      ],
      "metadata": {
        "id": "CQQqOgoKETeH"
      }
    },
    {
      "cell_type": "code",
      "source": [
        "## Paintbrush class = completed\n",
        "\n",
        "class PaintBrush:\n",
        "\n",
        "  def __init__ (self,size,color,brand,brush_type):\n",
        "\n",
        "    self.size = size\n",
        "    self.color = color\n",
        "    self.brand = brand\n",
        "    self.brush_type = brush_type\n",
        "\n",
        "\n",
        "\n",
        "  def paint(self):\n",
        "\n",
        "    print(\"Brush size = \" , self.size , \"\\nBrush color = \" , self.color , \"\\nBrush brand = \" , self.brand , \"\\nBrush type = \" , self.brush_type)\n"
      ],
      "metadata": {
        "id": "0j_kAY3icqXg"
      },
      "execution_count": null,
      "outputs": []
    },
    {
      "cell_type": "code",
      "source": [
        "size = input(\"select brush size from : small , medium , large = \")\n",
        "if size not in ['small' , 'medium' , 'large']:\n",
        "  raise ValueError(\"Pls input from these (small , medium , large)\")\n",
        "color =input(\"select brush color from : red blue green yellow = \")\n",
        "if color not in ['red', 'blue', 'green', 'yellow']:\n",
        "  raise ValueError(\"Pls input from these (red , blue , green , yellow)\")\n",
        "brand = input(\"select brush brand from : Winsor , Newton , Liquitex , Grumbacher = \")\n",
        "if brand not in ['Winsor' , 'Newton' , 'Liquitex' , 'Grumbacher']:\n",
        "  raise ValueError(\"Pls input from these (Winsor , Newton , Liquitex , Grumbacher)\")\n",
        "brush_type =input(\"select brush type from : round , flat = \")\n",
        "if brush_type not in ['round', 'flat']:\n",
        "  raise ValueError(\"Pls input from these (round , flat)\")\n",
        "\n",
        "brush1 = PaintBrush(size , color , brand , brush_type)\n",
        "\n",
        "brush1.paint()"
      ],
      "metadata": {
        "colab": {
          "base_uri": "https://localhost:8080/",
          "height": 228
        },
        "id": "hBOOd3iAg48Q",
        "outputId": "22a4d62f-bb70-43fe-e71e-b5c1a3d083ef"
      },
      "execution_count": null,
      "outputs": [
        {
          "name": "stdout",
          "output_type": "stream",
          "text": [
            "select brush size from : small , medium , large = a\n"
          ]
        },
        {
          "output_type": "error",
          "ename": "ValueError",
          "evalue": "Pls input from these (small , medium , large)",
          "traceback": [
            "\u001b[0;31m---------------------------------------------------------------------------\u001b[0m",
            "\u001b[0;31mValueError\u001b[0m                                Traceback (most recent call last)",
            "\u001b[0;32m<ipython-input-21-9bf0a9f05f11>\u001b[0m in \u001b[0;36m<cell line: 2>\u001b[0;34m()\u001b[0m\n\u001b[1;32m      1\u001b[0m \u001b[0msize\u001b[0m \u001b[0;34m=\u001b[0m \u001b[0minput\u001b[0m\u001b[0;34m(\u001b[0m\u001b[0;34m\"select brush size from : small , medium , large = \"\u001b[0m\u001b[0;34m)\u001b[0m\u001b[0;34m\u001b[0m\u001b[0;34m\u001b[0m\u001b[0m\n\u001b[1;32m      2\u001b[0m \u001b[0;32mif\u001b[0m \u001b[0msize\u001b[0m \u001b[0;32mnot\u001b[0m \u001b[0;32min\u001b[0m \u001b[0;34m[\u001b[0m\u001b[0;34m'small'\u001b[0m \u001b[0;34m,\u001b[0m \u001b[0;34m'medium'\u001b[0m \u001b[0;34m,\u001b[0m \u001b[0;34m'large'\u001b[0m\u001b[0;34m]\u001b[0m\u001b[0;34m:\u001b[0m\u001b[0;34m\u001b[0m\u001b[0;34m\u001b[0m\u001b[0m\n\u001b[0;32m----> 3\u001b[0;31m   \u001b[0;32mraise\u001b[0m \u001b[0mValueError\u001b[0m\u001b[0;34m(\u001b[0m\u001b[0;34m\"Pls input from these (small , medium , large)\"\u001b[0m\u001b[0;34m)\u001b[0m\u001b[0;34m\u001b[0m\u001b[0;34m\u001b[0m\u001b[0m\n\u001b[0m\u001b[1;32m      4\u001b[0m \u001b[0mcolor\u001b[0m \u001b[0;34m=\u001b[0m\u001b[0minput\u001b[0m\u001b[0;34m(\u001b[0m\u001b[0;34m\"select brush color from : red blue green yellow = \"\u001b[0m\u001b[0;34m)\u001b[0m\u001b[0;34m\u001b[0m\u001b[0;34m\u001b[0m\u001b[0m\n\u001b[1;32m      5\u001b[0m \u001b[0;32mif\u001b[0m \u001b[0mcolor\u001b[0m \u001b[0;32mnot\u001b[0m \u001b[0;32min\u001b[0m \u001b[0;34m[\u001b[0m\u001b[0;34m'red'\u001b[0m\u001b[0;34m,\u001b[0m \u001b[0;34m'blue'\u001b[0m\u001b[0;34m,\u001b[0m \u001b[0;34m'green'\u001b[0m\u001b[0;34m,\u001b[0m \u001b[0;34m'yellow'\u001b[0m\u001b[0;34m]\u001b[0m\u001b[0;34m:\u001b[0m\u001b[0;34m\u001b[0m\u001b[0;34m\u001b[0m\u001b[0m\n",
            "\u001b[0;31mValueError\u001b[0m: Pls input from these (small , medium , large)"
          ]
        }
      ]
    },
    {
      "cell_type": "markdown",
      "source": [
        "##27. Bank account class"
      ],
      "metadata": {
        "id": "3C76dShtEZ6s"
      }
    },
    {
      "cell_type": "code",
      "source": [
        "## Bank account class\n",
        "## deposit\n",
        "## withdraw\n",
        "## details\n",
        "## attributes = acc_num , name , balance\n",
        "\n",
        "class bank_account:\n",
        "\n",
        "  acc_count = 0\n",
        "\n",
        "  def __init__ (self , name  , acc_num):\n",
        "\n",
        "    self.name = name\n",
        "    self.acc_num = acc_num\n",
        "    self.balance = 0\n",
        "\n",
        "\n",
        "  def deposit(self , amount):\n",
        "\n",
        "    self.balance += amount\n",
        "    print(\"Your new balance is = \" , self.balance)\n",
        "\n",
        "  def withdraw(self , amount):\n",
        "\n",
        "    if self.balance <= amount:\n",
        "      print(\"Your balance is low = \" , self.balance)\n",
        "    else:\n",
        "      self.balance -= amount\n",
        "      print(\"Your net balance is = \" , self.balance)\n",
        "\n",
        "  def details(self):\n",
        "\n",
        "    print(\"your details are :\" , \"\\n\")\n",
        "    print(\"Name = \" , self.name)\n",
        "    print(\"Account number = \" , self.acc_num)\n",
        "    print(\"Balance = \" , self.balance , \"\\n\")\n",
        "\n"
      ],
      "metadata": {
        "id": "2WR782QmiBXD"
      },
      "execution_count": null,
      "outputs": []
    },
    {
      "cell_type": "code",
      "source": [
        "acc1 = bank_account(\"Apple\" , 1234567)\n",
        "acc1.deposit(7000)\n",
        "acc1.details()\n"
      ],
      "metadata": {
        "id": "vDlx-bJZmw0m",
        "colab": {
          "base_uri": "https://localhost:8080/"
        },
        "outputId": "a5a1355a-4696-40f3-9a54-d9d603449c53"
      },
      "execution_count": null,
      "outputs": [
        {
          "output_type": "stream",
          "name": "stdout",
          "text": [
            "Your new balance is =  7000\n",
            "your details are : \n",
            "\n",
            "Name =  Apple\n",
            "Account number =  1234567\n",
            "Balance =  7000 \n",
            "\n"
          ]
        }
      ]
    },
    {
      "cell_type": "markdown",
      "source": [
        "##28. add of list of n natural numbers"
      ],
      "metadata": {
        "id": "IZAMhzwFEflJ"
      }
    },
    {
      "cell_type": "code",
      "source": [
        "## sum of 1st n natural num\n",
        "\n",
        "n = int(input(\"enter till what the sum is needed : \"))\n",
        "\n",
        "sum = n*(n+1)/2\n",
        "\n",
        "print(sum)"
      ],
      "metadata": {
        "id": "nKLzXqOzpnJ7",
        "colab": {
          "base_uri": "https://localhost:8080/"
        },
        "outputId": "973cda31-cffd-4917-ca09-b9b78e93cea9"
      },
      "execution_count": null,
      "outputs": [
        {
          "output_type": "stream",
          "name": "stdout",
          "text": [
            "enter till what the sum is needed : 2\n",
            "3.0\n"
          ]
        }
      ]
    },
    {
      "cell_type": "code",
      "source": [
        "## Time class\n",
        "## input = hours and minutes\n",
        "## output = Corresponding time in AM/PM  = fully completed\n",
        "\n",
        "class Time:\n",
        "  def __init__(self,hour,minute):\n",
        "    self.hour = hour\n",
        "    self.min = minute\n",
        "\n",
        "  def DisplayTime(self):\n",
        "\n",
        "    if self.min > 60:\n",
        "      while self.min > 60:\n",
        "        self.hour += 1\n",
        "        self.min -= 60\n",
        "\n",
        "    if self.hour > 12:\n",
        "      while self.hour > 12:\n",
        "        self.hour -= 12\n",
        "      print(self.hour,\":\",self.min,\"PM\")\n",
        "    elif self.hour == 0:\n",
        "      print(12,\":\",self.min,\"AM\")\n",
        "    else:\n",
        "      print(self.hour,\":\",self.min,\"AM\")\n",
        "\n",
        "\n",
        "\n",
        "\n",
        "  def DisplayRatio(self):\n",
        "    try:\n",
        "      print(round(self.min/self.hour,2))\n",
        "    except ZeroDivisionError:\n",
        "      print(\"Cannot be divided by zero\")\n",
        "\n"
      ],
      "metadata": {
        "id": "puE0ri0Ar9S2"
      },
      "execution_count": null,
      "outputs": []
    },
    {
      "cell_type": "code",
      "source": [
        "hour_min_list = [(23,45), (34,50), (12,34), (14,67),(19,20), (2,15), (0, 10)]\n",
        "\n",
        "for value in hour_min_list:\n",
        "\n",
        "  time = Time(value[0],value[1])\n",
        "  time.DisplayTime()\n",
        "  time.DisplayRatio()\n"
      ],
      "metadata": {
        "colab": {
          "base_uri": "https://localhost:8080/"
        },
        "id": "DyxNaAJxJHJu",
        "outputId": "c3f943e8-1877-4b4b-c5fd-9eb2145bf61c"
      },
      "execution_count": null,
      "outputs": [
        {
          "output_type": "stream",
          "name": "stdout",
          "text": [
            "11 : 45 PM\n",
            "4.09\n",
            "10 : 50 PM\n",
            "5.0\n",
            "12 : 34 AM\n",
            "2.83\n",
            "3 : 7 PM\n",
            "2.33\n",
            "7 : 20 PM\n",
            "2.86\n",
            "2 : 15 AM\n",
            "7.5\n",
            "12 : 10 AM\n",
            "Cannot be divided by zero\n"
          ]
        }
      ]
    }
  ]
}